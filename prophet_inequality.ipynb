{
 "cells": [
  {
   "cell_type": "code",
   "execution_count": 1,
   "metadata": {
    "tags": []
   },
   "outputs": [
    {
     "name": "stdout",
     "output_type": "stream",
     "text": [
      "Requirement already satisfied: jours-feries-france in c:\\users\\lisag\\appdata\\local\\packages\\pythonsoftwarefoundation.python.3.10_qbz5n2kfra8p0\\localcache\\local-packages\\python310\\site-packages (0.7.0)\n"
     ]
    },
    {
     "name": "stderr",
     "output_type": "stream",
     "text": [
      "\n",
      "[notice] A new release of pip is available: 23.0.1 -> 23.1.2\n",
      "[notice] To update, run: C:\\Users\\lisag\\AppData\\Local\\Microsoft\\WindowsApps\\PythonSoftwareFoundation.Python.3.10_qbz5n2kfra8p0\\python.exe -m pip install --upgrade pip\n"
     ]
    }
   ],
   "source": [
    "import pandas as pd\n",
    "import numpy as np\n",
    "import matplotlib.pyplot as plt\n",
    "import seaborn as sns\n",
    "import datetime\n",
    "!pip install jours-feries-france\n",
    "from jours_feries_france import JoursFeries"
   ]
  },
  {
   "cell_type": "code",
   "execution_count": 2,
   "metadata": {
    "tags": []
   },
   "outputs": [
    {
     "name": "stderr",
     "output_type": "stream",
     "text": [
      "C:\\Users\\lisag\\AppData\\Local\\Temp\\ipykernel_8864\\2783197317.py:27: DtypeWarning: Columns (23,28) have mixed types. Specify dtype option on import or set low_memory=False.\n",
      "  df_cons = pd.read_csv(r\"eco2mix-national-cons-def.csv\", sep=';')\n"
     ]
    }
   ],
   "source": [
    "import requests as rq \n",
    "import pandas as pd\n",
    "import numpy as np\n",
    "import matplotlib.pyplot as plt \n",
    "from sklearn.linear_model import LinearRegression\n",
    "import seaborn as sns \n",
    "from sklearn.model_selection import train_test_split\n",
    "from sklearn import metrics\n",
    "\n",
    "\n",
    "# accès aux données : https://odre.opendatasoft.com/explore/dataset/eco2mix-national-cons-def/information\n",
    "\n",
    "# dates de début et de fin de la plage de données, format AAAA-MM-JJ\n",
    "date_debut = '2012-01-01'\n",
    "date_fin = '2022-12-31'\n",
    "\n",
    "# variables :\n",
    "# perimetre ; nature ; date ; heure ; date_heure ;\n",
    "# consommation ; prevision_j1 ; prevision_j ; fioul ; charbon ;\n",
    "# gaz ; nucleaire ; eolien ; solaire ; hydraulique ;\n",
    "# pompage ; bioenergies ; ech_physiques ; taux_co2 ; ech_comm_angleterre ;\n",
    "# ech_comm_espagne ; ech_comm_italie ; ech_comm_suisse ; ech_comm_allemagne_belgique ; fioul_tac ;\n",
    "# fioul_cogen ; fioul_autres ; gaz_tac ; gaz_cogen ; gaz_ccg ;\n",
    "# gaz_autres ; hydraulique_fil_eau_eclusee ; hydraulique_lacs ; hydraulique_step_turbinage ; bioenergies_dechets ;\n",
    "# bioenergies_biomasse ; bioenergies_biogaz\n",
    "\n",
    "df_cons = pd.read_csv(r\"eco2mix-national-cons-def.csv\", sep=';')\n",
    "# toutes les consommations sont en MW\n",
    "#df_cons = df_cons[[\"Date\", \"Heure\",\"Consommation\"]].rename(mapper = {\"Date\" : \"date\",\"Heure\" : \"heure\",\"Consommation\" : \"consommation\"}, axis = 1)"
   ]
  },
  {
   "cell_type": "code",
   "execution_count": 56,
   "metadata": {},
   "outputs": [
    {
     "data": {
      "text/html": [
       "<div>\n",
       "<style scoped>\n",
       "    .dataframe tbody tr th:only-of-type {\n",
       "        vertical-align: middle;\n",
       "    }\n",
       "\n",
       "    .dataframe tbody tr th {\n",
       "        vertical-align: top;\n",
       "    }\n",
       "\n",
       "    .dataframe thead th {\n",
       "        text-align: right;\n",
       "    }\n",
       "</style>\n",
       "<table border=\"1\" class=\"dataframe\">\n",
       "  <thead>\n",
       "    <tr style=\"text-align: right;\">\n",
       "      <th></th>\n",
       "      <th>date</th>\n",
       "      <th>heure</th>\n",
       "      <th>consommation</th>\n",
       "      <th>prevision_j1</th>\n",
       "      <th>date_heure</th>\n",
       "    </tr>\n",
       "  </thead>\n",
       "  <tbody>\n",
       "    <tr>\n",
       "      <th>0</th>\n",
       "      <td>2012-01-01</td>\n",
       "      <td>00:00</td>\n",
       "      <td>58315.0</td>\n",
       "      <td>58200</td>\n",
       "      <td>2012-01-01 00:00:00</td>\n",
       "    </tr>\n",
       "    <tr>\n",
       "      <th>1</th>\n",
       "      <td>2012-01-01</td>\n",
       "      <td>00:30</td>\n",
       "      <td>58315.0</td>\n",
       "      <td>57200</td>\n",
       "      <td>2012-01-01 00:30:00</td>\n",
       "    </tr>\n",
       "    <tr>\n",
       "      <th>2</th>\n",
       "      <td>2012-01-01</td>\n",
       "      <td>01:00</td>\n",
       "      <td>56231.0</td>\n",
       "      <td>55200</td>\n",
       "      <td>2012-01-01 01:00:00</td>\n",
       "    </tr>\n",
       "    <tr>\n",
       "      <th>3</th>\n",
       "      <td>2012-01-01</td>\n",
       "      <td>01:30</td>\n",
       "      <td>56075.0</td>\n",
       "      <td>56000</td>\n",
       "      <td>2012-01-01 01:30:00</td>\n",
       "    </tr>\n",
       "    <tr>\n",
       "      <th>4</th>\n",
       "      <td>2012-01-01</td>\n",
       "      <td>02:00</td>\n",
       "      <td>55532.0</td>\n",
       "      <td>56000</td>\n",
       "      <td>2012-01-01 02:00:00</td>\n",
       "    </tr>\n",
       "    <tr>\n",
       "      <th>...</th>\n",
       "      <td>...</td>\n",
       "      <td>...</td>\n",
       "      <td>...</td>\n",
       "      <td>...</td>\n",
       "      <td>...</td>\n",
       "    </tr>\n",
       "    <tr>\n",
       "      <th>182587</th>\n",
       "      <td>2022-05-31</td>\n",
       "      <td>21:30</td>\n",
       "      <td>44043.0</td>\n",
       "      <td>43900</td>\n",
       "      <td>2022-05-31 21:30:00</td>\n",
       "    </tr>\n",
       "    <tr>\n",
       "      <th>182588</th>\n",
       "      <td>2022-05-31</td>\n",
       "      <td>22:00</td>\n",
       "      <td>44019.0</td>\n",
       "      <td>43700</td>\n",
       "      <td>2022-05-31 22:00:00</td>\n",
       "    </tr>\n",
       "    <tr>\n",
       "      <th>182589</th>\n",
       "      <td>2022-05-31</td>\n",
       "      <td>22:30</td>\n",
       "      <td>45067.0</td>\n",
       "      <td>44800</td>\n",
       "      <td>2022-05-31 22:30:00</td>\n",
       "    </tr>\n",
       "    <tr>\n",
       "      <th>182590</th>\n",
       "      <td>2022-05-31</td>\n",
       "      <td>23:00</td>\n",
       "      <td>46703.0</td>\n",
       "      <td>47100</td>\n",
       "      <td>2022-05-31 23:00:00</td>\n",
       "    </tr>\n",
       "    <tr>\n",
       "      <th>182591</th>\n",
       "      <td>2022-05-31</td>\n",
       "      <td>23:30</td>\n",
       "      <td>45279.0</td>\n",
       "      <td>46400</td>\n",
       "      <td>2022-05-31 23:30:00</td>\n",
       "    </tr>\n",
       "  </tbody>\n",
       "</table>\n",
       "<p>182592 rows × 5 columns</p>\n",
       "</div>"
      ],
      "text/plain": [
       "              date  heure  consommation  prevision_j1          date_heure\n",
       "0       2012-01-01  00:00       58315.0         58200 2012-01-01 00:00:00\n",
       "1       2012-01-01  00:30       58315.0         57200 2012-01-01 00:30:00\n",
       "2       2012-01-01  01:00       56231.0         55200 2012-01-01 01:00:00\n",
       "3       2012-01-01  01:30       56075.0         56000 2012-01-01 01:30:00\n",
       "4       2012-01-01  02:00       55532.0         56000 2012-01-01 02:00:00\n",
       "...            ...    ...           ...           ...                 ...\n",
       "182587  2022-05-31  21:30       44043.0         43900 2022-05-31 21:30:00\n",
       "182588  2022-05-31  22:00       44019.0         43700 2022-05-31 22:00:00\n",
       "182589  2022-05-31  22:30       45067.0         44800 2022-05-31 22:30:00\n",
       "182590  2022-05-31  23:00       46703.0         47100 2022-05-31 23:00:00\n",
       "182591  2022-05-31  23:30       45279.0         46400 2022-05-31 23:30:00\n",
       "\n",
       "[182592 rows x 5 columns]"
      ]
     },
     "execution_count": 56,
     "metadata": {},
     "output_type": "execute_result"
    }
   ],
   "source": [
    "df_cons"
   ]
  },
  {
   "cell_type": "code",
   "execution_count": 3,
   "metadata": {},
   "outputs": [],
   "source": [
    "df_cons = df_cons[[\"date\", \"heure\",\"consommation\", \"prevision_j1\"]]"
   ]
  },
  {
   "attachments": {},
   "cell_type": "markdown",
   "metadata": {},
   "source": [
    "## I. Distribution des consommations électriques"
   ]
  },
  {
   "cell_type": "code",
   "execution_count": 4,
   "metadata": {
    "tags": []
   },
   "outputs": [],
   "source": [
    "mask = (df_cons['date'] >= date_debut) & (df_cons['date'] <= date_fin)\n",
    "df_cons = df_cons.loc[mask]\n",
    "df_cons.sort_values([\"date\",\"heure\"], inplace=True)\n",
    "# ajout d'une colonne avec les dates et les heures\n",
    "df_cons['date_heure'] = pd.to_datetime(df_cons['date']+'T'+df_cons['heure'])\n",
    "df_cons.dropna(axis = 0, inplace=True)\n",
    "df_cons.reset_index(drop=True, inplace=True)\n"
   ]
  },
  {
   "cell_type": "code",
   "execution_count": 58,
   "metadata": {
    "tags": []
   },
   "outputs": [
    {
     "data": {
      "text/plain": [
       "<AxesSubplot:xlabel='date'>"
      ]
     },
     "execution_count": 58,
     "metadata": {},
     "output_type": "execute_result"
    },
    {
     "data": {
      "image/png": "[encoded data removed]",
      "text/plain": [
       "<Figure size 432x288 with 1 Axes>"
      ]
     },
     "metadata": {
      "needs_background": "light"
     },
     "output_type": "display_data"
    }
   ],
   "source": [
    "# calcul de la consommation moyenne par jour\n",
    "cons_moy_quot = df_cons[['date_heure', 'consommation']] \\\n",
    "    .groupby(df_cons['date_heure'].dt.normalize().rename('date')) \\\n",
    "    .mean()\n",
    "cons_moy_quot.plot()"
   ]
  },
  {
   "cell_type": "code",
   "execution_count": 59,
   "metadata": {},
   "outputs": [
    {
     "data": {
      "text/html": [
       "<div>\n",
       "<style scoped>\n",
       "    .dataframe tbody tr th:only-of-type {\n",
       "        vertical-align: middle;\n",
       "    }\n",
       "\n",
       "    .dataframe tbody tr th {\n",
       "        vertical-align: top;\n",
       "    }\n",
       "\n",
       "    .dataframe thead th {\n",
       "        text-align: right;\n",
       "    }\n",
       "</style>\n",
       "<table border=\"1\" class=\"dataframe\">\n",
       "  <thead>\n",
       "    <tr style=\"text-align: right;\">\n",
       "      <th></th>\n",
       "      <th>consommation</th>\n",
       "    </tr>\n",
       "    <tr>\n",
       "      <th>date</th>\n",
       "      <th></th>\n",
       "    </tr>\n",
       "  </thead>\n",
       "  <tbody>\n",
       "    <tr>\n",
       "      <th>2012-01-01</th>\n",
       "      <td>51491.500000</td>\n",
       "    </tr>\n",
       "    <tr>\n",
       "      <th>2012-01-02</th>\n",
       "      <td>60683.645833</td>\n",
       "    </tr>\n",
       "    <tr>\n",
       "      <th>2012-01-03</th>\n",
       "      <td>67762.104167</td>\n",
       "    </tr>\n",
       "    <tr>\n",
       "      <th>2012-01-04</th>\n",
       "      <td>68029.229167</td>\n",
       "    </tr>\n",
       "    <tr>\n",
       "      <th>2012-01-05</th>\n",
       "      <td>69157.395833</td>\n",
       "    </tr>\n",
       "    <tr>\n",
       "      <th>...</th>\n",
       "      <td>...</td>\n",
       "    </tr>\n",
       "    <tr>\n",
       "      <th>2022-05-27</th>\n",
       "      <td>40620.354167</td>\n",
       "    </tr>\n",
       "    <tr>\n",
       "      <th>2022-05-28</th>\n",
       "      <td>38766.583333</td>\n",
       "    </tr>\n",
       "    <tr>\n",
       "      <th>2022-05-29</th>\n",
       "      <td>38017.583333</td>\n",
       "    </tr>\n",
       "    <tr>\n",
       "      <th>2022-05-30</th>\n",
       "      <td>44125.458333</td>\n",
       "    </tr>\n",
       "    <tr>\n",
       "      <th>2022-05-31</th>\n",
       "      <td>45022.375000</td>\n",
       "    </tr>\n",
       "  </tbody>\n",
       "</table>\n",
       "<p>3804 rows × 1 columns</p>\n",
       "</div>"
      ],
      "text/plain": [
       "            consommation\n",
       "date                    \n",
       "2012-01-01  51491.500000\n",
       "2012-01-02  60683.645833\n",
       "2012-01-03  67762.104167\n",
       "2012-01-04  68029.229167\n",
       "2012-01-05  69157.395833\n",
       "...                  ...\n",
       "2022-05-27  40620.354167\n",
       "2022-05-28  38766.583333\n",
       "2022-05-29  38017.583333\n",
       "2022-05-30  44125.458333\n",
       "2022-05-31  45022.375000\n",
       "\n",
       "[3804 rows x 1 columns]"
      ]
     },
     "execution_count": 59,
     "metadata": {},
     "output_type": "execute_result"
    }
   ],
   "source": [
    "cons_moy_quot"
   ]
  },
  {
   "cell_type": "code",
   "execution_count": 60,
   "metadata": {
    "tags": []
   },
   "outputs": [
    {
     "data": {
      "text/plain": [
       "<AxesSubplot:xlabel='jour'>"
      ]
     },
     "execution_count": 60,
     "metadata": {},
     "output_type": "execute_result"
    },
    {
     "data": {
      "image/png": "[encoded data removed]",
      "text/plain": [
       "<Figure size 432x288 with 1 Axes>"
      ]
     },
     "metadata": {
      "needs_background": "light"
     },
     "output_type": "display_data"
    }
   ],
   "source": [
    "cons_moy_quot_ann = cons_moy_quot \\\n",
    "    .assign(annee=cons_moy_quot.index.year, jour=cons_moy_quot.index.dayofyear) \\\n",
    "    .pivot(index='jour', columns='annee', values='consommation')\n",
    "cons_moy_quot_ann.plot()\n",
    "\n",
    "## tendance gaussienne ? centrée au mois de décembre/janvier"
   ]
  },
  {
   "attachments": {},
   "cell_type": "markdown",
   "metadata": {},
   "source": [
    "### Rehearsal algorithm"
   ]
  },
  {
   "cell_type": "code",
   "execution_count": 7,
   "metadata": {},
   "outputs": [],
   "source": [
    "# calcul de la consommation moyenne par jour\n",
    "cons_moy_quot_est = df_cons[['prevision_j1']] \\\n",
    "    .groupby(df_cons['date_heure'].dt.normalize().rename('date')) \\\n",
    "    .mean()"
   ]
  },
  {
   "cell_type": "code",
   "execution_count": 8,
   "metadata": {
    "tags": []
   },
   "outputs": [],
   "source": [
    "# dataframe avec les consommations moyennes en MWh\n",
    "df_cons_moy_quot = pd.DataFrame(columns = [\"date\",\"consommation_moy (MW)\", \"cons_reel\"])\n",
    "df_cons_moy_quot[\"date\"] = cons_moy_quot_est.index\n",
    "df_cons_moy_quot[\"consommation_moy (MW)\"] = cons_moy_quot_est.values\n",
    "df_cons_moy_quot[\"cons_reel\"] = cons_moy_quot.values"
   ]
  },
  {
   "cell_type": "code",
   "execution_count": 9,
   "metadata": {
    "tags": []
   },
   "outputs": [
    {
     "data": {
      "text/html": [
       "<div>\n",
       "<style scoped>\n",
       "    .dataframe tbody tr th:only-of-type {\n",
       "        vertical-align: middle;\n",
       "    }\n",
       "\n",
       "    .dataframe tbody tr th {\n",
       "        vertical-align: top;\n",
       "    }\n",
       "\n",
       "    .dataframe thead th {\n",
       "        text-align: right;\n",
       "    }\n",
       "</style>\n",
       "<table border=\"1\" class=\"dataframe\">\n",
       "  <thead>\n",
       "    <tr style=\"text-align: right;\">\n",
       "      <th></th>\n",
       "      <th>date</th>\n",
       "      <th>consommation_moy (MW)</th>\n",
       "      <th>cons_reel</th>\n",
       "    </tr>\n",
       "  </thead>\n",
       "  <tbody>\n",
       "    <tr>\n",
       "      <th>0</th>\n",
       "      <td>2015-09-01</td>\n",
       "      <td>48816.666667</td>\n",
       "      <td>47559.125000</td>\n",
       "    </tr>\n",
       "    <tr>\n",
       "      <th>1</th>\n",
       "      <td>2015-09-02</td>\n",
       "      <td>47466.666667</td>\n",
       "      <td>47104.104167</td>\n",
       "    </tr>\n",
       "    <tr>\n",
       "      <th>2</th>\n",
       "      <td>2015-09-03</td>\n",
       "      <td>46904.166667</td>\n",
       "      <td>47362.333333</td>\n",
       "    </tr>\n",
       "    <tr>\n",
       "      <th>3</th>\n",
       "      <td>2015-09-04</td>\n",
       "      <td>46760.416667</td>\n",
       "      <td>46868.166667</td>\n",
       "    </tr>\n",
       "    <tr>\n",
       "      <th>4</th>\n",
       "      <td>2015-09-05</td>\n",
       "      <td>41185.416667</td>\n",
       "      <td>41396.750000</td>\n",
       "    </tr>\n",
       "    <tr>\n",
       "      <th>...</th>\n",
       "      <td>...</td>\n",
       "      <td>...</td>\n",
       "      <td>...</td>\n",
       "    </tr>\n",
       "    <tr>\n",
       "      <th>361</th>\n",
       "      <td>2016-08-27</td>\n",
       "      <td>43504.166667</td>\n",
       "      <td>43248.312500</td>\n",
       "    </tr>\n",
       "    <tr>\n",
       "      <th>362</th>\n",
       "      <td>2016-08-28</td>\n",
       "      <td>40785.416667</td>\n",
       "      <td>39766.041667</td>\n",
       "    </tr>\n",
       "    <tr>\n",
       "      <th>363</th>\n",
       "      <td>2016-08-29</td>\n",
       "      <td>46331.250000</td>\n",
       "      <td>46517.875000</td>\n",
       "    </tr>\n",
       "    <tr>\n",
       "      <th>364</th>\n",
       "      <td>2016-08-30</td>\n",
       "      <td>48277.083333</td>\n",
       "      <td>47780.020833</td>\n",
       "    </tr>\n",
       "    <tr>\n",
       "      <th>365</th>\n",
       "      <td>2016-08-31</td>\n",
       "      <td>48525.000000</td>\n",
       "      <td>48313.104167</td>\n",
       "    </tr>\n",
       "  </tbody>\n",
       "</table>\n",
       "<p>366 rows × 3 columns</p>\n",
       "</div>"
      ],
      "text/plain": [
       "          date  consommation_moy (MW)     cons_reel\n",
       "0   2015-09-01           48816.666667  47559.125000\n",
       "1   2015-09-02           47466.666667  47104.104167\n",
       "2   2015-09-03           46904.166667  47362.333333\n",
       "3   2015-09-04           46760.416667  46868.166667\n",
       "4   2015-09-05           41185.416667  41396.750000\n",
       "..         ...                    ...           ...\n",
       "361 2016-08-27           43504.166667  43248.312500\n",
       "362 2016-08-28           40785.416667  39766.041667\n",
       "363 2016-08-29           46331.250000  46517.875000\n",
       "364 2016-08-30           48277.083333  47780.020833\n",
       "365 2016-08-31           48525.000000  48313.104167\n",
       "\n",
       "[366 rows x 3 columns]"
      ]
     },
     "execution_count": 9,
     "metadata": {},
     "output_type": "execute_result"
    }
   ],
   "source": [
    "# dataframe avec les consommations moyennes quotidiennes de 2015-2016\n",
    "mask_15_16 = (df_cons_moy_quot['date'] >= \"2015-09-01\") & (df_cons_moy_quot['date'] <= \"2016-08-31\")\n",
    "df_cons_15_16 = df_cons_moy_quot.loc[mask_15_16].reset_index(drop=True)\n",
    "df_cons_15_16 \n",
    "# il y a 365 jours\n",
    "# en particulier il y a 300 jours bleus\n",
    "# 43 jours blancs\n",
    "# 22 jours rouges"
   ]
  },
  {
   "cell_type": "code",
   "execution_count": 10,
   "metadata": {
    "tags": []
   },
   "outputs": [],
   "source": [
    "# On prend le prix des heures pleines au kWH\n",
    "p_bleu = 0.1249*24*1000\n",
    "# HC: 0,097 €\n",
    "p_blanc =  0.1508*24*1000\n",
    "# HC: 0,114 €\n",
    "p_rouge =  0.6712*24*1000\n",
    "# HC: 0,1216 €"
   ]
  },
  {
   "cell_type": "code",
   "execution_count": 11,
   "metadata": {
    "tags": []
   },
   "outputs": [],
   "source": [
    "# ranger dans l'ordre décroissant les observations\n",
    "df_cons_15_16.sort_values(\"consommation_moy (MW)\", ascending=False, inplace=True)"
   ]
  },
  {
   "cell_type": "code",
   "execution_count": 12,
   "metadata": {
    "tags": []
   },
   "outputs": [],
   "source": [
    "df_cons_15_16.reset_index(drop=True,inplace=True)"
   ]
  },
  {
   "cell_type": "code",
   "execution_count": 29,
   "metadata": {
    "tags": []
   },
   "outputs": [],
   "source": [
    "# on choisit k = 43 + 22 = 65\n",
    "import numpy as np \n",
    "from math import *\n",
    "k = 65\n",
    "top = round(k-2*np.sqrt(k))\n",
    "bottom = round(2*np.sqrt(k))"
   ]
  },
  {
   "cell_type": "code",
   "execution_count": 30,
   "metadata": {
    "tags": []
   },
   "outputs": [],
   "source": [
    "list_threshold = [df_cons_15_16.loc[i, \"consommation_moy (MW)\"]  for i in range(top)] + [df_cons_15_16.loc[top-1, \"consommation_moy (MW)\"] for i in range(bottom)]"
   ]
  },
  {
   "cell_type": "code",
   "execution_count": 31,
   "metadata": {
    "tags": []
   },
   "outputs": [],
   "source": [
    "# dataframe avec les consommations moyennes quotidiennes de 2020-2021\n",
    "mask_16_17 = (df_cons_moy_quot['date'] >= \"2016-09-01\") & (df_cons_moy_quot['date'] <= \"2017-08-31\")\n",
    "df_cons_16_17 = df_cons_moy_quot.loc[mask_16_17].reset_index(drop=True)\n",
    "\n",
    "def date_to_wd(tmstp) : #Fonction de transformation d'un timestamp en jour de la semaine\n",
    "    dt = tmstp.date()\n",
    "    return(dt.weekday())\n",
    "\n",
    "def feries(tmstp) : #Fonction d'évaluation de si un jour est férié ou non\n",
    "    return(JoursFeries.is_bank_holiday(tmstp.date(), zone=\"Métropole\"))\n",
    "\n",
    "df_cons_16_17['weekday'] = df_cons_16_17['date'].apply(date_to_wd)\n",
    "df_cons_16_17['ferie'] = df_cons_16_17['date'].apply(feries)"
   ]
  },
  {
   "cell_type": "code",
   "execution_count": 32,
   "metadata": {
    "tags": []
   },
   "outputs": [],
   "source": [
    "list_threshold_copy = list_threshold.copy()"
   ]
  },
  {
   "cell_type": "code",
   "execution_count": 33,
   "metadata": {
    "tags": []
   },
   "outputs": [],
   "source": [
    "jours = []\n",
    "conso = []\n",
    "cons_reel =[] \n",
    "date = []\n",
    "ferie = []\n",
    "weekday = []\n",
    "for i in range(len(df_cons_16_17)):\n",
    "    if (df_cons_16_17.loc[i,'weekday'] in [6]):\n",
    "        continue # on passe car pas de jours rouges/blancs les dimanches \n",
    "    store = []\n",
    "    for j in range(len(list_threshold_copy)):\n",
    "        if df_cons_16_17.loc[i,\"consommation_moy (MW)\"] > list_threshold_copy[j]:\n",
    "            store.append(list_threshold_copy[j])\n",
    "    if store:\n",
    "        list_threshold_copy.remove(max(store))\n",
    "        jours.append(i)\n",
    "        conso.append(df_cons_16_17.loc[i,\"consommation_moy (MW)\"])\n",
    "        cons_reel.append(df_cons_16_17.loc[i,\"cons_reel\"])\n",
    "        date.append(df_cons_16_17.loc[i, \"date\"])\n",
    "        ferie.append(df_cons_16_17.loc[i, \"ferie\"])\n",
    "        weekday.append(df_cons_16_17.loc[i, \"weekday\"])\n",
    "\n"
   ]
  },
  {
   "cell_type": "code",
   "execution_count": 34,
   "metadata": {},
   "outputs": [
    {
     "data": {
      "text/plain": [
       "61"
      ]
     },
     "execution_count": 34,
     "metadata": {},
     "output_type": "execute_result"
    }
   ],
   "source": [
    "len(jours)"
   ]
  },
  {
   "cell_type": "code",
   "execution_count": 35,
   "metadata": {
    "tags": []
   },
   "outputs": [],
   "source": [
    "df = pd.DataFrame(columns=[\"jours\",\"date\",\"weekday\", \"ferie\",\"conso\", \"cons_reel\"])\n",
    "df[\"jours\"] = jours\n",
    "df[\"date\"] = date\n",
    "df[\"conso\"] = conso\n",
    "df[\"weekday\"] = weekday\n",
    "df[\"ferie\"] = ferie\n",
    "df[\"cons_reel\"] = cons_reel\n",
    "df.sort_values(\"conso\",ascending=False, inplace=True)\n"
   ]
  },
  {
   "cell_type": "code",
   "execution_count": 36,
   "metadata": {},
   "outputs": [
    {
     "data": {
      "text/html": [
       "<div>\n",
       "<style scoped>\n",
       "    .dataframe tbody tr th:only-of-type {\n",
       "        vertical-align: middle;\n",
       "    }\n",
       "\n",
       "    .dataframe tbody tr th {\n",
       "        vertical-align: top;\n",
       "    }\n",
       "\n",
       "    .dataframe thead th {\n",
       "        text-align: right;\n",
       "    }\n",
       "</style>\n",
       "<table border=\"1\" class=\"dataframe\">\n",
       "  <thead>\n",
       "    <tr style=\"text-align: right;\">\n",
       "      <th></th>\n",
       "      <th>jours</th>\n",
       "      <th>date</th>\n",
       "      <th>weekday</th>\n",
       "      <th>ferie</th>\n",
       "      <th>conso</th>\n",
       "      <th>cons_reel</th>\n",
       "    </tr>\n",
       "  </thead>\n",
       "  <tbody>\n",
       "  </tbody>\n",
       "</table>\n",
       "</div>"
      ],
      "text/plain": [
       "Empty DataFrame\n",
       "Columns: [jours, date, weekday, ferie, conso, cons_reel]\n",
       "Index: []"
      ]
     },
     "execution_count": 36,
     "metadata": {},
     "output_type": "execute_result"
    }
   ],
   "source": [
    "# on regarde si il y a des jours fériés dans la liste : si oui alors ce sera un jour blanc.\n",
    "df[df[\"ferie\"] == True]\n",
    "# on regarde si il y a des samedis : si oui alors ça sera forcément un jour blanc. Ici il y en a.\n",
    "df[df[\"weekday\"] == 5]\n",
    "# on regarde si c'est compris entre le 1er nov et le 31 mars : si oui alors ce sera un jour blanc.\n",
    "df[(df[\"date\"] <= \"2016-11-01\") | (df[\"date\"] >= \"2017-03-31\" )]"
   ]
  },
  {
   "cell_type": "code",
   "execution_count": 37,
   "metadata": {},
   "outputs": [
    {
     "data": {
      "text/html": [
       "<div>\n",
       "<style scoped>\n",
       "    .dataframe tbody tr th:only-of-type {\n",
       "        vertical-align: middle;\n",
       "    }\n",
       "\n",
       "    .dataframe tbody tr th {\n",
       "        vertical-align: top;\n",
       "    }\n",
       "\n",
       "    .dataframe thead th {\n",
       "        text-align: right;\n",
       "    }\n",
       "</style>\n",
       "<table border=\"1\" class=\"dataframe\">\n",
       "  <thead>\n",
       "    <tr style=\"text-align: right;\">\n",
       "      <th></th>\n",
       "      <th>jours</th>\n",
       "      <th>date</th>\n",
       "      <th>weekday</th>\n",
       "      <th>ferie</th>\n",
       "      <th>conso</th>\n",
       "      <th>cons_reel</th>\n",
       "    </tr>\n",
       "  </thead>\n",
       "  <tbody>\n",
       "    <tr>\n",
       "      <th>42</th>\n",
       "      <td>142</td>\n",
       "      <td>2017-01-21</td>\n",
       "      <td>5</td>\n",
       "      <td>False</td>\n",
       "      <td>79493.750000</td>\n",
       "      <td>79169.916667</td>\n",
       "    </tr>\n",
       "    <tr>\n",
       "      <th>30</th>\n",
       "      <td>128</td>\n",
       "      <td>2017-01-07</td>\n",
       "      <td>5</td>\n",
       "      <td>False</td>\n",
       "      <td>79089.583333</td>\n",
       "      <td>78270.812500</td>\n",
       "    </tr>\n",
       "    <tr>\n",
       "      <th>36</th>\n",
       "      <td>135</td>\n",
       "      <td>2017-01-14</td>\n",
       "      <td>5</td>\n",
       "      <td>False</td>\n",
       "      <td>70416.666667</td>\n",
       "      <td>71089.812500</td>\n",
       "    </tr>\n",
       "    <tr>\n",
       "      <th>24</th>\n",
       "      <td>121</td>\n",
       "      <td>2016-12-31</td>\n",
       "      <td>5</td>\n",
       "      <td>False</td>\n",
       "      <td>70175.000000</td>\n",
       "      <td>71891.437500</td>\n",
       "    </tr>\n",
       "    <tr>\n",
       "      <th>48</th>\n",
       "      <td>149</td>\n",
       "      <td>2017-01-28</td>\n",
       "      <td>5</td>\n",
       "      <td>False</td>\n",
       "      <td>69881.250000</td>\n",
       "      <td>68194.729167</td>\n",
       "    </tr>\n",
       "    <tr>\n",
       "      <th>57</th>\n",
       "      <td>163</td>\n",
       "      <td>2017-02-11</td>\n",
       "      <td>5</td>\n",
       "      <td>False</td>\n",
       "      <td>68477.083333</td>\n",
       "      <td>69856.270833</td>\n",
       "    </tr>\n",
       "    <tr>\n",
       "      <th>7</th>\n",
       "      <td>93</td>\n",
       "      <td>2016-12-03</td>\n",
       "      <td>5</td>\n",
       "      <td>False</td>\n",
       "      <td>67368.750000</td>\n",
       "      <td>66699.479167</td>\n",
       "    </tr>\n",
       "  </tbody>\n",
       "</table>\n",
       "</div>"
      ],
      "text/plain": [
       "    jours       date  weekday  ferie         conso     cons_reel\n",
       "42    142 2017-01-21        5  False  79493.750000  79169.916667\n",
       "30    128 2017-01-07        5  False  79089.583333  78270.812500\n",
       "36    135 2017-01-14        5  False  70416.666667  71089.812500\n",
       "24    121 2016-12-31        5  False  70175.000000  71891.437500\n",
       "48    149 2017-01-28        5  False  69881.250000  68194.729167\n",
       "57    163 2017-02-11        5  False  68477.083333  69856.270833\n",
       "7      93 2016-12-03        5  False  67368.750000  66699.479167"
      ]
     },
     "execution_count": 37,
     "metadata": {},
     "output_type": "execute_result"
    }
   ],
   "source": [
    "samedis_blancs = df[df[\"weekday\"] == 5]\n",
    "samedis_blancs"
   ]
  },
  {
   "cell_type": "code",
   "execution_count": 38,
   "metadata": {},
   "outputs": [
    {
     "data": {
      "text/plain": [
       "61"
      ]
     },
     "execution_count": 38,
     "metadata": {},
     "output_type": "execute_result"
    }
   ],
   "source": [
    "len(df[\"jours\"].values)\n",
    "# 4 jours blancs restants à attribuer"
   ]
  },
  {
   "cell_type": "code",
   "execution_count": 39,
   "metadata": {},
   "outputs": [
    {
     "data": {
      "text/plain": [
       "jours                        187\n",
       "date         2017-03-07 00:00:00\n",
       "weekday                        1\n",
       "ferie                      False\n",
       "conso               66297.916667\n",
       "cons_reel           66417.270833\n",
       "Name: 60, dtype: object"
      ]
     },
     "execution_count": 39,
     "metadata": {},
     "output_type": "execute_result"
    }
   ],
   "source": [
    "res = k - len(df)\n",
    "df.loc[len(df)-1]"
   ]
  },
  {
   "cell_type": "code",
   "execution_count": 41,
   "metadata": {},
   "outputs": [],
   "source": [
    "# condition aux limites : on choisit d'attribuer les 4 jours blancs restants aux 4 premiers jours (hors dimanche)\n",
    "# après avoir attribué le dernier jour au dessus des thresholds. Ici le dernier jour était le 7 mars\n",
    "# df.loc[len(df)-1]\n",
    "for i in range(188, 365): \n",
    "    if df_cons_16_17.loc[i,\"weekday\"] != 6:\n",
    "        df.loc[len(df)] = i, df_cons_16_17.loc[i,\"date\"], df_cons_16_17.loc[i,\"weekday\"],df_cons_16_17.loc[i, \"ferie\"], df_cons_16_17.loc[i, \"consommation_moy (MW)\"], df_cons_16_17.loc[i, \"cons_reel\"]\n",
    "    if k - len(df) == 0:\n",
    "        break\n"
   ]
  },
  {
   "cell_type": "code",
   "execution_count": 43,
   "metadata": {},
   "outputs": [
    {
     "data": {
      "text/html": [
       "<div>\n",
       "<style scoped>\n",
       "    .dataframe tbody tr th:only-of-type {\n",
       "        vertical-align: middle;\n",
       "    }\n",
       "\n",
       "    .dataframe tbody tr th {\n",
       "        vertical-align: top;\n",
       "    }\n",
       "\n",
       "    .dataframe thead th {\n",
       "        text-align: right;\n",
       "    }\n",
       "</style>\n",
       "<table border=\"1\" class=\"dataframe\">\n",
       "  <thead>\n",
       "    <tr style=\"text-align: right;\">\n",
       "      <th></th>\n",
       "      <th>jours</th>\n",
       "      <th>date</th>\n",
       "      <th>weekday</th>\n",
       "      <th>ferie</th>\n",
       "      <th>conso</th>\n",
       "      <th>cons_reel</th>\n",
       "    </tr>\n",
       "  </thead>\n",
       "  <tbody>\n",
       "    <tr>\n",
       "      <th>40</th>\n",
       "      <td>140</td>\n",
       "      <td>2017-01-19</td>\n",
       "      <td>3</td>\n",
       "      <td>False</td>\n",
       "      <td>86620.833333</td>\n",
       "      <td>86614.687500</td>\n",
       "    </tr>\n",
       "    <tr>\n",
       "      <th>41</th>\n",
       "      <td>141</td>\n",
       "      <td>2017-01-20</td>\n",
       "      <td>4</td>\n",
       "      <td>False</td>\n",
       "      <td>86137.500000</td>\n",
       "      <td>85613.458333</td>\n",
       "    </tr>\n",
       "    <tr>\n",
       "      <th>39</th>\n",
       "      <td>139</td>\n",
       "      <td>2017-01-18</td>\n",
       "      <td>2</td>\n",
       "      <td>False</td>\n",
       "      <td>85014.583333</td>\n",
       "      <td>85886.520833</td>\n",
       "    </tr>\n",
       "    <tr>\n",
       "      <th>45</th>\n",
       "      <td>146</td>\n",
       "      <td>2017-01-25</td>\n",
       "      <td>2</td>\n",
       "      <td>False</td>\n",
       "      <td>84293.750000</td>\n",
       "      <td>85097.937500</td>\n",
       "    </tr>\n",
       "    <tr>\n",
       "      <th>44</th>\n",
       "      <td>145</td>\n",
       "      <td>2017-01-24</td>\n",
       "      <td>1</td>\n",
       "      <td>False</td>\n",
       "      <td>83660.416667</td>\n",
       "      <td>83613.166667</td>\n",
       "    </tr>\n",
       "    <tr>\n",
       "      <th>...</th>\n",
       "      <td>...</td>\n",
       "      <td>...</td>\n",
       "      <td>...</td>\n",
       "      <td>...</td>\n",
       "      <td>...</td>\n",
       "      <td>...</td>\n",
       "    </tr>\n",
       "    <tr>\n",
       "      <th>60</th>\n",
       "      <td>187</td>\n",
       "      <td>2017-03-07</td>\n",
       "      <td>1</td>\n",
       "      <td>False</td>\n",
       "      <td>66297.916667</td>\n",
       "      <td>66417.270833</td>\n",
       "    </tr>\n",
       "    <tr>\n",
       "      <th>61</th>\n",
       "      <td>188</td>\n",
       "      <td>2017-03-08</td>\n",
       "      <td>2</td>\n",
       "      <td>False</td>\n",
       "      <td>64422.916667</td>\n",
       "      <td>65362.375000</td>\n",
       "    </tr>\n",
       "    <tr>\n",
       "      <th>62</th>\n",
       "      <td>189</td>\n",
       "      <td>2017-03-09</td>\n",
       "      <td>3</td>\n",
       "      <td>False</td>\n",
       "      <td>61793.750000</td>\n",
       "      <td>60906.750000</td>\n",
       "    </tr>\n",
       "    <tr>\n",
       "      <th>63</th>\n",
       "      <td>190</td>\n",
       "      <td>2017-03-10</td>\n",
       "      <td>4</td>\n",
       "      <td>False</td>\n",
       "      <td>58556.250000</td>\n",
       "      <td>58427.687500</td>\n",
       "    </tr>\n",
       "    <tr>\n",
       "      <th>64</th>\n",
       "      <td>191</td>\n",
       "      <td>2017-03-11</td>\n",
       "      <td>5</td>\n",
       "      <td>False</td>\n",
       "      <td>52202.083333</td>\n",
       "      <td>51981.770833</td>\n",
       "    </tr>\n",
       "  </tbody>\n",
       "</table>\n",
       "<p>65 rows × 6 columns</p>\n",
       "</div>"
      ],
      "text/plain": [
       "    jours       date  weekday  ferie         conso     cons_reel\n",
       "40    140 2017-01-19        3  False  86620.833333  86614.687500\n",
       "41    141 2017-01-20        4  False  86137.500000  85613.458333\n",
       "39    139 2017-01-18        2  False  85014.583333  85886.520833\n",
       "45    146 2017-01-25        2  False  84293.750000  85097.937500\n",
       "44    145 2017-01-24        1  False  83660.416667  83613.166667\n",
       "..    ...        ...      ...    ...           ...           ...\n",
       "60    187 2017-03-07        1  False  66297.916667  66417.270833\n",
       "61    188 2017-03-08        2  False  64422.916667  65362.375000\n",
       "62    189 2017-03-09        3  False  61793.750000  60906.750000\n",
       "63    190 2017-03-10        4  False  58556.250000  58427.687500\n",
       "64    191 2017-03-11        5  False  52202.083333  51981.770833\n",
       "\n",
       "[65 rows x 6 columns]"
      ]
     },
     "execution_count": 43,
     "metadata": {},
     "output_type": "execute_result"
    }
   ],
   "source": [
    "df"
   ]
  },
  {
   "cell_type": "code",
   "execution_count": 44,
   "metadata": {},
   "outputs": [
    {
     "name": "stdout",
     "output_type": "stream",
     "text": [
      "28087799696.800007\n",
      "10771782057.4\n",
      "45664763003.25\n"
     ]
    }
   ],
   "source": [
    "# on calcule le gain de EDF pour les 22 jours rouges obtenus par le rehearsal algorithm\n",
    "gain_rouge_simul = df[~df.index.isin(samedis_blancs.index)].iloc[:22][\"cons_reel\"].sum() * p_rouge\n",
    "print(gain_rouge_simul)\n",
    "# on calcule le gain de EDF pour les 43 jours blancs obtenus par le rehearsal algorithm\n",
    "gain_blanc_simul = (df[df.index.isin(samedis_blancs.index)][\"cons_reel\"].sum() + df[~df.index.isin(samedis_blancs.index)].iloc[22:][\"cons_reel\"].sum()) * p_blanc\n",
    "print(gain_blanc_simul)\n",
    "# on calcule le gain de EDF pour les 300 jours bleus restants\n",
    "gain_bleu_simul = df_cons_16_17[~df_cons_16_17.index.isin(list(df[\"jours\"].values))][\"cons_reel\"].sum() * p_bleu\n",
    "print(gain_bleu_simul)"
   ]
  },
  {
   "attachments": {},
   "cell_type": "markdown",
   "metadata": {},
   "source": [
    "### Mesure performance"
   ]
  },
  {
   "cell_type": "code",
   "execution_count": 45,
   "metadata": {},
   "outputs": [
    {
     "data": {
      "text/html": [
       "<div>\n",
       "<style scoped>\n",
       "    .dataframe tbody tr th:only-of-type {\n",
       "        vertical-align: middle;\n",
       "    }\n",
       "\n",
       "    .dataframe tbody tr th {\n",
       "        vertical-align: top;\n",
       "    }\n",
       "\n",
       "    .dataframe thead th {\n",
       "        text-align: right;\n",
       "    }\n",
       "</style>\n",
       "<table border=\"1\" class=\"dataframe\">\n",
       "  <thead>\n",
       "    <tr style=\"text-align: right;\">\n",
       "      <th></th>\n",
       "      <th>date</th>\n",
       "      <th>consommation_moy (MW)</th>\n",
       "      <th>cons_reel</th>\n",
       "      <th>weekday</th>\n",
       "      <th>ferie</th>\n",
       "    </tr>\n",
       "  </thead>\n",
       "  <tbody>\n",
       "    <tr>\n",
       "      <th>0</th>\n",
       "      <td>2016-09-01</td>\n",
       "      <td>49239.583333</td>\n",
       "      <td>48570.854167</td>\n",
       "      <td>3</td>\n",
       "      <td>False</td>\n",
       "    </tr>\n",
       "    <tr>\n",
       "      <th>1</th>\n",
       "      <td>2016-09-02</td>\n",
       "      <td>48947.916667</td>\n",
       "      <td>48239.666667</td>\n",
       "      <td>4</td>\n",
       "      <td>False</td>\n",
       "    </tr>\n",
       "    <tr>\n",
       "      <th>2</th>\n",
       "      <td>2016-09-03</td>\n",
       "      <td>43183.333333</td>\n",
       "      <td>42749.916667</td>\n",
       "      <td>5</td>\n",
       "      <td>False</td>\n",
       "    </tr>\n",
       "    <tr>\n",
       "      <th>3</th>\n",
       "      <td>2016-09-04</td>\n",
       "      <td>40210.416667</td>\n",
       "      <td>40055.270833</td>\n",
       "      <td>6</td>\n",
       "      <td>False</td>\n",
       "    </tr>\n",
       "    <tr>\n",
       "      <th>4</th>\n",
       "      <td>2016-09-05</td>\n",
       "      <td>47425.000000</td>\n",
       "      <td>47290.708333</td>\n",
       "      <td>0</td>\n",
       "      <td>False</td>\n",
       "    </tr>\n",
       "    <tr>\n",
       "      <th>...</th>\n",
       "      <td>...</td>\n",
       "      <td>...</td>\n",
       "      <td>...</td>\n",
       "      <td>...</td>\n",
       "      <td>...</td>\n",
       "    </tr>\n",
       "    <tr>\n",
       "      <th>360</th>\n",
       "      <td>2017-08-27</td>\n",
       "      <td>39610.416667</td>\n",
       "      <td>39266.166667</td>\n",
       "      <td>6</td>\n",
       "      <td>False</td>\n",
       "    </tr>\n",
       "    <tr>\n",
       "      <th>361</th>\n",
       "      <td>2017-08-28</td>\n",
       "      <td>47218.750000</td>\n",
       "      <td>47152.104167</td>\n",
       "      <td>0</td>\n",
       "      <td>False</td>\n",
       "    </tr>\n",
       "    <tr>\n",
       "      <th>362</th>\n",
       "      <td>2017-08-29</td>\n",
       "      <td>48597.916667</td>\n",
       "      <td>48848.333333</td>\n",
       "      <td>1</td>\n",
       "      <td>False</td>\n",
       "    </tr>\n",
       "    <tr>\n",
       "      <th>363</th>\n",
       "      <td>2017-08-30</td>\n",
       "      <td>49241.666667</td>\n",
       "      <td>48650.520833</td>\n",
       "      <td>2</td>\n",
       "      <td>False</td>\n",
       "    </tr>\n",
       "    <tr>\n",
       "      <th>364</th>\n",
       "      <td>2017-08-31</td>\n",
       "      <td>48358.333333</td>\n",
       "      <td>47211.583333</td>\n",
       "      <td>3</td>\n",
       "      <td>False</td>\n",
       "    </tr>\n",
       "  </tbody>\n",
       "</table>\n",
       "<p>365 rows × 5 columns</p>\n",
       "</div>"
      ],
      "text/plain": [
       "          date  consommation_moy (MW)     cons_reel  weekday  ferie\n",
       "0   2016-09-01           49239.583333  48570.854167        3  False\n",
       "1   2016-09-02           48947.916667  48239.666667        4  False\n",
       "2   2016-09-03           43183.333333  42749.916667        5  False\n",
       "3   2016-09-04           40210.416667  40055.270833        6  False\n",
       "4   2016-09-05           47425.000000  47290.708333        0  False\n",
       "..         ...                    ...           ...      ...    ...\n",
       "360 2017-08-27           39610.416667  39266.166667        6  False\n",
       "361 2017-08-28           47218.750000  47152.104167        0  False\n",
       "362 2017-08-29           48597.916667  48848.333333        1  False\n",
       "363 2017-08-30           49241.666667  48650.520833        2  False\n",
       "364 2017-08-31           48358.333333  47211.583333        3  False\n",
       "\n",
       "[365 rows x 5 columns]"
      ]
     },
     "execution_count": 45,
     "metadata": {},
     "output_type": "execute_result"
    }
   ],
   "source": [
    "df_cons_16_17"
   ]
  },
  {
   "cell_type": "code",
   "execution_count": 46,
   "metadata": {},
   "outputs": [],
   "source": [
    "# Comparaison avec le gain du prophète ex ante\n",
    "df_cons_16_17_ord = df_cons_16_17.sort_values(\"cons_reel\", ascending=False)\n"
   ]
  },
  {
   "cell_type": "code",
   "execution_count": 49,
   "metadata": {},
   "outputs": [
    {
     "name": "stderr",
     "output_type": "stream",
     "text": [
      "C:\\Users\\lisag\\AppData\\Local\\Temp\\ipykernel_8864\\1476352616.py:1: UserWarning: Boolean Series key will be reindexed to match DataFrame index.\n",
      "  gain_rouge_proph = df_cons_16_17_ord[~(df_cons_16_17_ord.weekday.isin([5,6]) | df_cons_16_17_ord.ferie) | ((df_cons_16_17[\"date\"] < \"2016-11-01\") & (df_cons_16_17[\"date\"] > \"2017-03-31\") )].iloc[:22][\"cons_reel\"].sum() * p_rouge\n",
      "C:\\Users\\lisag\\AppData\\Local\\Temp\\ipykernel_8864\\1476352616.py:2: UserWarning: Boolean Series key will be reindexed to match DataFrame index.\n",
      "  rouge_proph_i = list(df_cons_16_17_ord[~(df_cons_16_17_ord.weekday.isin([5,6]) | df_cons_16_17_ord.ferie) | ((df_cons_16_17[\"date\"] < \"2016-11-01\") & (df_cons_16_17[\"date\"] > \"2017-03-31\") )].iloc[:22].index)\n"
     ]
    }
   ],
   "source": [
    "gain_rouge_proph = df_cons_16_17_ord[~(df_cons_16_17_ord.weekday.isin([5,6]) | df_cons_16_17_ord.ferie) | ((df_cons_16_17[\"date\"] < \"2016-11-01\") & (df_cons_16_17[\"date\"] > \"2017-03-31\") )].iloc[:22][\"cons_reel\"].sum() * p_rouge\n",
    "rouge_proph_i = list(df_cons_16_17_ord[~(df_cons_16_17_ord.weekday.isin([5,6]) | df_cons_16_17_ord.ferie) | ((df_cons_16_17[\"date\"] < \"2016-11-01\") & (df_cons_16_17[\"date\"] > \"2017-03-31\") )].iloc[:22].index)\n",
    "gain_blanc_proph = df_cons_16_17_ord[~(df_cons_16_17_ord.weekday.isin([6]))].iloc[22:65][\"cons_reel\"].sum() * p_blanc\n",
    "blanc_proph_i = list(df_cons_16_17_ord[~(df_cons_16_17_ord.weekday.isin([6]))].iloc[22:65].index)\n",
    "k_list = rouge_proph_i + blanc_proph_i\n",
    "gain_bleu_proph = df_cons_16_17_ord.loc[~df_cons_16_17_ord.index.isin(k_list)][\"cons_reel\"].sum() * p_bleu"
   ]
  },
  {
   "cell_type": "code",
   "execution_count": 50,
   "metadata": {},
   "outputs": [
    {
     "name": "stdout",
     "output_type": "stream",
     "text": [
      "84524344757.45001\n",
      "84978108434.35\n"
     ]
    }
   ],
   "source": [
    "gain_total_proph = gain_rouge_proph + gain_blanc_proph + gain_bleu_proph\n",
    "gain_total_simul = gain_rouge_simul + gain_blanc_simul + gain_bleu_simul\n",
    "print(gain_total_simul)\n",
    "print(gain_total_proph)"
   ]
  },
  {
   "cell_type": "code",
   "execution_count": 51,
   "metadata": {},
   "outputs": [
    {
     "data": {
      "text/plain": [
       "0.9946602285546218"
      ]
     },
     "execution_count": 51,
     "metadata": {},
     "output_type": "execute_result"
    }
   ],
   "source": [
    "gain_total_simul/gain_total_proph"
   ]
  },
  {
   "attachments": {},
   "cell_type": "markdown",
   "metadata": {},
   "source": [
    "### Comparaison avec ce qu'a réellement gagné EDF en 2016-2017"
   ]
  },
  {
   "cell_type": "code",
   "execution_count": 52,
   "metadata": {},
   "outputs": [],
   "source": [
    "tempo_16_17 = pd.read_csv(r\"D:\\ENSAE\\2A S2\\projet_seminaire_stat\\data\\eCO2mix_RTE_tempo_2016-2017.csv\", sep=\";\", encoding='latin-1')\n",
    "tempo_16_17.rename({\"Date\": \"date\"},axis=1,inplace=True)"
   ]
  },
  {
   "cell_type": "code",
   "execution_count": 53,
   "metadata": {},
   "outputs": [],
   "source": [
    "tempo_16_17.drop(tempo_16_17.index[365], inplace=True)"
   ]
  },
  {
   "cell_type": "code",
   "execution_count": 54,
   "metadata": {},
   "outputs": [
    {
     "name": "stdout",
     "output_type": "stream",
     "text": [
      "26291046294.400005\n",
      "10810066859.8\n",
      "45967401823.35\n"
     ]
    }
   ],
   "source": [
    "check = pd.concat([tempo_16_17, df_cons_16_17],axis=1)\n",
    "rouge_16_17 = check[check[\"Type de jour TEMPO\"] == \"ROUGE\"]\n",
    "blanc_16_17 = check[check[\"Type de jour TEMPO\"] == \"BLANC\"]\n",
    "bleu_16_17 = check[check[\"Type de jour TEMPO\"] == \"BLEU\"]\n",
    "\n",
    "gain_rouge_reel = rouge_16_17[\"cons_reel\"].sum() * p_rouge \n",
    "gain_blanc_reel = blanc_16_17[\"cons_reel\"].sum() * p_blanc\n",
    "gain_bleu_reel = bleu_16_17[\"cons_reel\"].sum() * p_bleu\n",
    "\n",
    "print(gain_rouge_reel)\n",
    "print(gain_blanc_reel)\n",
    "print(gain_bleu_reel)"
   ]
  },
  {
   "cell_type": "code",
   "execution_count": 55,
   "metadata": {},
   "outputs": [
    {
     "name": "stdout",
     "output_type": "stream",
     "text": [
      "84524344757.45001\n",
      "83068514977.55\n"
     ]
    }
   ],
   "source": [
    "gain_total_simul = gain_rouge_simul + gain_blanc_simul + gain_bleu_simul\n",
    "print(gain_total_simul)\n",
    "gain_total_reel = gain_rouge_reel + gain_blanc_reel + gain_bleu_reel\n",
    "print(gain_total_reel)\n"
   ]
  }
 ],
 "metadata": {
  "kernelspec": {
   "display_name": "Python 3 (ipykernel)",
   "language": "python",
   "name": "python3"
  },
  "language_info": {
   "codemirror_mode": {
    "name": "ipython",
    "version": 3
   },
   "file_extension": ".py",
   "mimetype": "text/x-python",
   "name": "python",
   "nbconvert_exporter": "python",
   "pygments_lexer": "ipython3",
   "version": "3.10.11"
  }
 },
 "nbformat": 4,
 "nbformat_minor": 4
}
