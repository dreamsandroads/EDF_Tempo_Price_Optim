{
 "cells": [
  {
   "cell_type": "code",
   "execution_count": 1,
   "metadata": {},
   "outputs": [],
   "source": [
    "from random import random"
   ]
  },
  {
   "cell_type": "code",
   "execution_count": 2,
   "metadata": {},
   "outputs": [],
   "source": [
    "# PARTIE I : on ne laisse passer qu'un seul candidat\n",
    "# générer n variables aléatoires (= n secrétaires) correspondant à leurs qualités\n",
    "def qualities(n) : \n",
    "    return [random() for _ in range(n)] \n",
    "# donner le pourcentage de chance de tomber sur la meilleure secrétaire\n",
    "def recrut(n):\n",
    "    success = 0\n",
    "    nb_simul = 10000 \n",
    "    for _ in range(nb_simul) :\n",
    "        sec = qualities(n)\n",
    "        best = sec.index(max(sec))\n",
    "        k = 1 \n",
    "        maxi = sec[0]\n",
    "        while k < n :\n",
    "            if sec[k] > maxi :\n",
    "                break\n",
    "            else :\n",
    "                k += 1\n",
    "        if k == best :\n",
    "            success += 1\n",
    "    return success / nb_simul"
   ]
  },
  {
   "cell_type": "code",
   "execution_count": 3,
   "metadata": {},
   "outputs": [
    {
     "data": {
      "text/plain": [
       "0.2479"
      ]
     },
     "execution_count": 3,
     "metadata": {},
     "output_type": "execute_result"
    }
   ],
   "source": [
    "recrut(12) # 25%"
   ]
  },
  {
   "cell_type": "code",
   "execution_count": 4,
   "metadata": {},
   "outputs": [],
   "source": [
    "# PARTIE II : on laisse passer 2 candidats\n",
    "# générer n variables aléatoires (= n secrétaires) correspondant à leurs qualités\n",
    "def qualities(n) : \n",
    "    return [random() for _ in range(n)] \n",
    "# donner le pourcentage de chance de tomber sur la meilleure secrétaire\n",
    "def recrut(n):\n",
    "    success = 0\n",
    "    nb_simul = 10000 \n",
    "    for _ in range(nb_simul) :\n",
    "        sec = qualities(n)\n",
    "        best = sec.index(max(sec))\n",
    "        k = 2\n",
    "        maxi = max(sec[0], sec[1])\n",
    "        while k < n :\n",
    "            if sec[k] > maxi :\n",
    "                break\n",
    "            else :\n",
    "                k += 1\n",
    "        if k == best :\n",
    "            success += 1\n",
    "    return success / nb_simul"
   ]
  },
  {
   "cell_type": "code",
   "execution_count": 5,
   "metadata": {},
   "outputs": [
    {
     "data": {
      "text/plain": [
       "0.3412"
      ]
     },
     "execution_count": 5,
     "metadata": {},
     "output_type": "execute_result"
    }
   ],
   "source": [
    "recrut(12) # 34%"
   ]
  },
  {
   "cell_type": "code",
   "execution_count": 6,
   "metadata": {},
   "outputs": [],
   "source": [
    "# PARTIE III : on laisse passer k (=suppr) candidats\n",
    "# générer n variables aléatoires (= n secrétaires) correspondant à leurs qualités\n",
    "def qualities(n) : \n",
    "    return [random() for _ in range(n)] \n",
    "# donner le pourcentage de chance de tomber sur la meilleure secrétaire\n",
    "def recrut(n, suppr):\n",
    "    success = 0\n",
    "    nb_simul = 10000 \n",
    "    for _ in range(nb_simul) :\n",
    "        sec = qualities(n)\n",
    "        best = sec.index(max(sec))\n",
    "        k = suppr\n",
    "        maxi = max(sec[:suppr])\n",
    "        while k < n :\n",
    "            if sec[k] > maxi :\n",
    "                break\n",
    "            else :\n",
    "                k += 1\n",
    "        if k == best :\n",
    "            success += 1\n",
    "    return success / nb_simul\n",
    "\n"
   ]
  },
  {
   "cell_type": "code",
   "execution_count": 7,
   "metadata": {},
   "outputs": [
    {
     "name": "stdout",
     "output_type": "stream",
     "text": [
      "1 : success = 0.246\n",
      "2 : success = 0.3413\n",
      "3 : success = 0.3726\n",
      "4 : success = 0.3909\n",
      "5 : success = 0.3889\n",
      "6 : success = 0.3585\n",
      "7 : success = 0.3358\n",
      "8 : success = 0.2879\n",
      "9 : success = 0.2244\n",
      "10 : success = 0.1586\n",
      "11 : success = 0.0866\n"
     ]
    }
   ],
   "source": [
    "for k in range(1, 12) :\n",
    "    print(\"{} : success = {}\"\\\n",
    "          .format(k,recrut(12,k)))\n",
    "    \n",
    "# meilleure stratégie : ne pas recruter les 4 premiers candidats\n",
    "# on arrive à pratiquement 40% de chance d'avoir la meilleure secrétaire"
   ]
  },
  {
   "cell_type": "code",
   "execution_count": 8,
   "metadata": {},
   "outputs": [],
   "source": [
    "def laisser(n) :\n",
    "    pourc, r = 0, 0\n",
    "    for i in range(1,n) : \n",
    "        p = recrut(n,i) # pourcentage de succés si on a laissé i candidats\n",
    "        if p > pourc : # si ce pourcentage au pourcentage précédent\n",
    "            pourc = p # alors la stratégie est meilleure\n",
    "            r = i # il faut laisser i candidats\n",
    "    return r"
   ]
  },
  {
   "cell_type": "code",
   "execution_count": 9,
   "metadata": {},
   "outputs": [],
   "source": [
    "import pandas as pd\n",
    "df = pd.DataFrame(columns = [\"nombre de candidats\", \"nombres de candidats à laisser\"])\n",
    "df[\"nombre de candidats\"] = [i for i in range(2,60,2)]\n",
    "df[\"nombre de candidats à laisser\"] = [laisser(i) for i in range(2,60,2)]"
   ]
  },
  {
   "cell_type": "code",
   "execution_count": 11,
   "metadata": {},
   "outputs": [
    {
     "name": "stdout",
     "output_type": "stream",
     "text": [
      "Collecting plotly"
     ]
    },
    {
     "name": "stderr",
     "output_type": "stream",
     "text": [
      "\n",
      "[notice] A new release of pip is available: 23.0.1 -> 23.1.1\n",
      "[notice] To update, run: C:\\Users\\lisag\\AppData\\Local\\Microsoft\\WindowsApps\\PythonSoftwareFoundation.Python.3.10_qbz5n2kfra8p0\\python.exe -m pip install --upgrade pip\n"
     ]
    },
    {
     "name": "stdout",
     "output_type": "stream",
     "text": [
      "\n",
      "  Downloading plotly-5.14.1-py2.py3-none-any.whl (15.3 MB)\n",
      "     ---------------------------------------- 15.3/15.3 MB 6.7 MB/s eta 0:00:00\n",
      "Collecting tenacity>=6.2.0\n",
      "  Downloading tenacity-8.2.2-py3-none-any.whl (24 kB)\n",
      "Requirement already satisfied: packaging in c:\\users\\lisag\\appdata\\local\\packages\\pythonsoftwarefoundation.python.3.10_qbz5n2kfra8p0\\localcache\\local-packages\\python310\\site-packages (from plotly) (21.3)\n",
      "Requirement already satisfied: pyparsing!=3.0.5,>=2.0.2 in c:\\users\\lisag\\appdata\\local\\packages\\pythonsoftwarefoundation.python.3.10_qbz5n2kfra8p0\\localcache\\local-packages\\python310\\site-packages (from packaging->plotly) (3.0.7)\n",
      "Installing collected packages: tenacity, plotly\n",
      "Successfully installed plotly-5.14.1 tenacity-8.2.2\n"
     ]
    }
   ],
   "source": [
    "!pip install plotly"
   ]
  },
  {
   "cell_type": "code",
   "execution_count": 13,
   "metadata": {},
   "outputs": [
    {
     "name": "stdout",
     "output_type": "stream",
     "text": [
      "Collecting statsmodels\n",
      "  Downloading statsmodels-0.13.5-cp310-cp310-win_amd64.whl (9.1 MB)\n",
      "     ---------------------------------------- 9.1/9.1 MB 8.4 MB/s eta 0:00:00\n",
      "Requirement already satisfied: pandas>=0.25 in c:\\users\\lisag\\appdata\\local\\packages\\pythonsoftwarefoundation.python.3.10_qbz5n2kfra8p0\\localcache\\local-packages\\python310\\site-packages (from statsmodels) (1.4.1)\n",
      "Collecting patsy>=0.5.2Note: you may need to restart the kernel to use updated packages.\n",
      "  Downloading patsy-0.5.3-py2.py3-none-any.whl (233 kB)\n",
      "     -------------------------------------- 233.8/233.8 kB 7.2 MB/s eta 0:00:00\n",
      "\n"
     ]
    },
    {
     "name": "stderr",
     "output_type": "stream",
     "text": [
      "ERROR: Could not install packages due to an OSError: [WinError 5] Accès refusé: 'C:\\\\Users\\\\lisag\\\\AppData\\\\Local\\\\Packages\\\\PythonSoftwareFoundation.Python.3.10_qbz5n2kfra8p0\\\\LocalCache\\\\local-packages\\\\Python310\\\\site-packages\\\\~umpy\\\\.libs\\\\libopenblas.EL2C6PLE4ZYW3ECEVIV3OXXGRN2NRFM2.gfortran-win_amd64.dll'\n",
      "Check the permissions.\n",
      "\n",
      "\n",
      "[notice] A new release of pip is available: 23.0.1 -> 23.1.1\n",
      "[notice] To update, run: C:\\Users\\lisag\\AppData\\Local\\Microsoft\\WindowsApps\\PythonSoftwareFoundation.Python.3.10_qbz5n2kfra8p0\\python.exe -m pip install --upgrade pip\n"
     ]
    },
    {
     "name": "stdout",
     "output_type": "stream",
     "text": [
      "Requirement already satisfied: scipy>=1.3 in c:\\users\\lisag\\appdata\\local\\packages\\pythonsoftwarefoundation.python.3.10_qbz5n2kfra8p0\\localcache\\local-packages\\python310\\site-packages (from statsmodels) (1.9.1)\n",
      "Requirement already satisfied: packaging>=21.3 in c:\\users\\lisag\\appdata\\local\\packages\\pythonsoftwarefoundation.python.3.10_qbz5n2kfra8p0\\localcache\\local-packages\\python310\\site-packages (from statsmodels) (21.3)\n",
      "Collecting numpy>=1.22.3\n",
      "  Downloading numpy-1.24.3-cp310-cp310-win_amd64.whl (14.8 MB)\n",
      "     ---------------------------------------- 14.8/14.8 MB 9.6 MB/s eta 0:00:00\n",
      "Requirement already satisfied: pyparsing!=3.0.5,>=2.0.2 in c:\\users\\lisag\\appdata\\local\\packages\\pythonsoftwarefoundation.python.3.10_qbz5n2kfra8p0\\localcache\\local-packages\\python310\\site-packages (from packaging>=21.3->statsmodels) (3.0.7)\n",
      "Requirement already satisfied: pytz>=2020.1 in c:\\users\\lisag\\appdata\\local\\packages\\pythonsoftwarefoundation.python.3.10_qbz5n2kfra8p0\\localcache\\local-packages\\python310\\site-packages (from pandas>=0.25->statsmodels) (2021.3)\n",
      "Requirement already satisfied: python-dateutil>=2.8.1 in c:\\users\\lisag\\appdata\\local\\packages\\pythonsoftwarefoundation.python.3.10_qbz5n2kfra8p0\\localcache\\local-packages\\python310\\site-packages (from pandas>=0.25->statsmodels) (2.8.2)\n",
      "Requirement already satisfied: six in c:\\users\\lisag\\appdata\\local\\packages\\pythonsoftwarefoundation.python.3.10_qbz5n2kfra8p0\\localcache\\local-packages\\python310\\site-packages (from patsy>=0.5.2->statsmodels) (1.16.0)\n",
      "Installing collected packages: numpy, patsy, statsmodels\n",
      "  Attempting uninstall: numpy\n",
      "    Found existing installation: numpy 1.22.2\n",
      "    Uninstalling numpy-1.22.2:\n",
      "      Successfully uninstalled numpy-1.22.2\n"
     ]
    }
   ],
   "source": [
    "%pip install statsmodels"
   ]
  },
  {
   "cell_type": "code",
   "execution_count": 14,
   "metadata": {},
   "outputs": [
    {
     "ename": "ModuleNotFoundError",
     "evalue": "No module named 'statsmodels'",
     "output_type": "error",
     "traceback": [
      "\u001b[1;31m---------------------------------------------------------------------------\u001b[0m",
      "\u001b[1;31mModuleNotFoundError\u001b[0m                       Traceback (most recent call last)",
      "\u001b[1;32md:\\ENSAE\\2A S2\\projet_seminaire_stat\\secretaire.ipynb Cell 12\u001b[0m in \u001b[0;36m<module>\u001b[1;34m\u001b[0m\n\u001b[0;32m      <a href='vscode-notebook-cell:/d%3A/ENSAE/2A%20S2/projet_seminaire_stat/secretaire.ipynb#X25sZmlsZQ%3D%3D?line=0'>1</a>\u001b[0m \u001b[39mimport\u001b[39;00m \u001b[39mplotly\u001b[39;00m\u001b[39m.\u001b[39;00m\u001b[39mexpress\u001b[39;00m \u001b[39mas\u001b[39;00m \u001b[39mpx\u001b[39;00m\n\u001b[1;32m----> <a href='vscode-notebook-cell:/d%3A/ENSAE/2A%20S2/projet_seminaire_stat/secretaire.ipynb#X25sZmlsZQ%3D%3D?line=1'>2</a>\u001b[0m \u001b[39mimport\u001b[39;00m \u001b[39mstatsmodels\u001b[39;00m\u001b[39m.\u001b[39;00m\u001b[39mapi\u001b[39;00m \u001b[39mas\u001b[39;00m \u001b[39msm\u001b[39;00m\n\u001b[0;32m      <a href='vscode-notebook-cell:/d%3A/ENSAE/2A%20S2/projet_seminaire_stat/secretaire.ipynb#X25sZmlsZQ%3D%3D?line=2'>3</a>\u001b[0m \u001b[39mimport\u001b[39;00m \u001b[39mmatplotlib\u001b[39;00m\u001b[39m.\u001b[39;00m\u001b[39mpyplot\u001b[39;00m \u001b[39mas\u001b[39;00m \u001b[39mplt\u001b[39;00m\n\u001b[0;32m      <a href='vscode-notebook-cell:/d%3A/ENSAE/2A%20S2/projet_seminaire_stat/secretaire.ipynb#X25sZmlsZQ%3D%3D?line=3'>4</a>\u001b[0m fig \u001b[39m=\u001b[39m px\u001b[39m.\u001b[39mscatter(\n\u001b[0;32m      <a href='vscode-notebook-cell:/d%3A/ENSAE/2A%20S2/projet_seminaire_stat/secretaire.ipynb#X25sZmlsZQ%3D%3D?line=4'>5</a>\u001b[0m     df, x\u001b[39m=\u001b[39m\u001b[39m'\u001b[39m\u001b[39mnombre de candidats\u001b[39m\u001b[39m'\u001b[39m, y\u001b[39m=\u001b[39m\u001b[39m'\u001b[39m\u001b[39mnombre de candidats à laisser\u001b[39m\u001b[39m'\u001b[39m, opacity\u001b[39m=\u001b[39m\u001b[39m0.65\u001b[39m,\n\u001b[0;32m      <a href='vscode-notebook-cell:/d%3A/ENSAE/2A%20S2/projet_seminaire_stat/secretaire.ipynb#X25sZmlsZQ%3D%3D?line=5'>6</a>\u001b[0m     trendline\u001b[39m=\u001b[39m\u001b[39m'\u001b[39m\u001b[39mols\u001b[39m\u001b[39m'\u001b[39m, trendline_color_override\u001b[39m=\u001b[39m\u001b[39m'\u001b[39m\u001b[39mdarkblue\u001b[39m\u001b[39m'\u001b[39m, title \u001b[39m=\u001b[39m \u001b[39m\"\u001b[39m\u001b[39mReprésentation graphique des simulations\u001b[39m\u001b[39m\"\u001b[39m\n\u001b[0;32m      <a href='vscode-notebook-cell:/d%3A/ENSAE/2A%20S2/projet_seminaire_stat/secretaire.ipynb#X25sZmlsZQ%3D%3D?line=6'>7</a>\u001b[0m )\n",
      "\u001b[1;31mModuleNotFoundError\u001b[0m: No module named 'statsmodels'"
     ]
    }
   ],
   "source": [
    "import plotly.express as px\n",
    "import statsmodels.api as sm\n",
    "import matplotlib.pyplot as plt\n",
    "fig = px.scatter(\n",
    "    df, x='nombre de candidats', y='nombre de candidats à laisser', opacity=0.65,\n",
    "    trendline='ols', trendline_color_override='darkblue', title = \"Représentation graphique des simulations\"\n",
    ")\n",
    "\n",
    "fig.show()"
   ]
  },
  {
   "cell_type": "code",
   "execution_count": 10,
   "metadata": {},
   "outputs": [
    {
     "ename": "ModuleNotFoundError",
     "evalue": "No module named 'plotly'",
     "output_type": "error",
     "traceback": [
      "\u001b[1;31m---------------------------------------------------------------------------\u001b[0m",
      "\u001b[1;31mModuleNotFoundError\u001b[0m                       Traceback (most recent call last)",
      "\u001b[1;32md:\\ENSAE\\2A S2\\projet_seminaire_stat\\secretaire.ipynb Cell 11\u001b[0m in \u001b[0;36m<module>\u001b[1;34m\u001b[0m\n\u001b[0;32m      <a href='vscode-notebook-cell:/d%3A/ENSAE/2A%20S2/projet_seminaire_stat/secretaire.ipynb#X13sZmlsZQ%3D%3D?line=0'>1</a>\u001b[0m \u001b[39mimport\u001b[39;00m \u001b[39mmatplotlib\u001b[39;00m\u001b[39m.\u001b[39;00m\u001b[39mpyplot\u001b[39;00m \u001b[39mas\u001b[39;00m \u001b[39mplt\u001b[39;00m\n\u001b[0;32m      <a href='vscode-notebook-cell:/d%3A/ENSAE/2A%20S2/projet_seminaire_stat/secretaire.ipynb#X13sZmlsZQ%3D%3D?line=1'>2</a>\u001b[0m \u001b[39mimport\u001b[39;00m \u001b[39mnumpy\u001b[39;00m \u001b[39mas\u001b[39;00m \u001b[39mnp\u001b[39;00m\n\u001b[1;32m----> <a href='vscode-notebook-cell:/d%3A/ENSAE/2A%20S2/projet_seminaire_stat/secretaire.ipynb#X13sZmlsZQ%3D%3D?line=3'>4</a>\u001b[0m \u001b[39mimport\u001b[39;00m \u001b[39mplotly\u001b[39;00m\u001b[39m.\u001b[39;00m\u001b[39mexpress\u001b[39;00m \u001b[39mas\u001b[39;00m \u001b[39mpx\u001b[39;00m\n\u001b[0;32m      <a href='vscode-notebook-cell:/d%3A/ENSAE/2A%20S2/projet_seminaire_stat/secretaire.ipynb#X13sZmlsZQ%3D%3D?line=5'>6</a>\u001b[0m px\u001b[39m.\u001b[39mscatter(df[\u001b[39m\"\u001b[39m\u001b[39mnombre de candidats\u001b[39m\u001b[39m\"\u001b[39m], df[\u001b[39m\"\u001b[39m\u001b[39mnombre de candidats à laisser\u001b[39m\u001b[39m\"\u001b[39m])\n\u001b[0;32m      <a href='vscode-notebook-cell:/d%3A/ENSAE/2A%20S2/projet_seminaire_stat/secretaire.ipynb#X13sZmlsZQ%3D%3D?line=6'>7</a>\u001b[0m plt\u001b[39m.\u001b[39mplot([\u001b[39m0\u001b[39m,\u001b[39m60\u001b[39m], [\u001b[39m0\u001b[39m,\u001b[39m20\u001b[39m], color\u001b[39m=\u001b[39m\u001b[39m\"\u001b[39m\u001b[39mred\u001b[39m\u001b[39m\"\u001b[39m, linestyle\u001b[39m=\u001b[39m\u001b[39m\"\u001b[39m\u001b[39msolid\u001b[39m\u001b[39m\"\u001b[39m)\n",
      "\u001b[1;31mModuleNotFoundError\u001b[0m: No module named 'plotly'"
     ]
    }
   ],
   "source": [
    "import matplotlib.pyplot as plt\n",
    "import numpy as np\n",
    "\n",
    "\n",
    "px.scatter(df[\"nombre de candidats\"], df[\"nombre de candidats à laisser\"])\n",
    "plt.plot([0,60], [0,20], color=\"red\", linestyle=\"solid\")\n",
    "plt.xlabel(\"Nombre de candidats\")\n",
    "plt.ylabel(\"Nombre de candidats à laisser\")\n",
    "plt.title(\"Représentation graphique des simulations\")"
   ]
  },
  {
   "cell_type": "code",
   "execution_count": null,
   "metadata": {},
   "outputs": [],
   "source": [
    "# calcul théorique\n",
    "# proba de succès si k candidats laissés\n",
    "def recrut(n, k) :\n",
    "    return k/n * sum([1/(j-1) for j in range(k+1, n+1)])\n",
    "# proba de succès pour k allant de 1 à 11\n",
    "for k in range(1, 12) : \n",
    "    print(\"{} : success = {}\".format(k, recrut(12,k)))\n",
    "\n",
    "# on retrouve le même résultat entre calcul théorique et simulation : 4"
   ]
  },
  {
   "cell_type": "code",
   "execution_count": null,
   "metadata": {},
   "outputs": [],
   "source": [
    "import pandas as pd\n",
    "n = 100\n",
    "df1 = pd.DataFrame(columns = [\"nombre de candidats laissés\", \"probabilité de succès\"])\n",
    "df1[\"nombre de candidats laissés\"] = [k for k in range(1,n)]\n",
    "df1[\"probabilité de succès\"] = df[\"nombre de candidats laissés\"].apply(lambda x: recrut(n,x))"
   ]
  },
  {
   "cell_type": "code",
   "execution_count": null,
   "metadata": {},
   "outputs": [],
   "source": [
    "df1"
   ]
  },
  {
   "cell_type": "code",
   "execution_count": null,
   "metadata": {},
   "outputs": [],
   "source": [
    "plt.plot(df1[\"nombre de candidats laissés\"], df1[\"probabilité de succès\"])\n",
    "plt.title(\"Résultats pour 100 candidats\")\n",
    "plt.xlabel(\"Nombre de candidats laissés\")\n",
    "plt.ylabel(\"Probabilité de succès\")\n",
    "plt.show()"
   ]
  }
 ],
 "metadata": {
  "kernelspec": {
   "display_name": "Python 3",
   "language": "python",
   "name": "python3"
  },
  "language_info": {
   "codemirror_mode": {
    "name": "ipython",
    "version": 3
   },
   "file_extension": ".py",
   "mimetype": "text/x-python",
   "name": "python",
   "nbconvert_exporter": "python",
   "pygments_lexer": "ipython3",
   "version": "3.10.11"
  },
  "orig_nbformat": 4
 },
 "nbformat": 4,
 "nbformat_minor": 2
}
