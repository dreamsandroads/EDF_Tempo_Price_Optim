{
 "cells": [
  {
   "cell_type": "code",
   "execution_count": 2,
   "metadata": {},
   "outputs": [],
   "source": [
    "from random import random"
   ]
  },
  {
   "cell_type": "code",
   "execution_count": 3,
   "metadata": {},
   "outputs": [],
   "source": [
    "# PARTIE I : on ne laisse passer qu'un seul candidat\n",
    "# générer n variables aléatoires (= n secrétaires) correspondant à leurs qualités\n",
    "def qualities(n) : \n",
    "    return [random() for _ in range(n)] \n",
    "# donner le pourcentage de chance de tomber sur la meilleure secrétaire\n",
    "def recrut(n):\n",
    "    success = 0\n",
    "    nb_simul = 10000 \n",
    "    for _ in range(nb_simul) :\n",
    "        sec = qualities(n)\n",
    "        best = sec.index(max(sec))\n",
    "        k = 1 \n",
    "        maxi = sec[0]\n",
    "        while k < n :\n",
    "            if sec[k] > maxi :\n",
    "                break\n",
    "            else :\n",
    "                k += 1\n",
    "        if k == best :\n",
    "            success += 1\n",
    "    return success / nb_simul"
   ]
  },
  {
   "cell_type": "code",
   "execution_count": 4,
   "metadata": {},
   "outputs": [
    {
     "data": {
      "text/plain": [
       "0.2515"
      ]
     },
     "execution_count": 4,
     "metadata": {},
     "output_type": "execute_result"
    }
   ],
   "source": [
    "recrut(12) # 25%"
   ]
  },
  {
   "cell_type": "code",
   "execution_count": 5,
   "metadata": {},
   "outputs": [],
   "source": [
    "# PARTIE II : on laisse passer 2 candidats\n",
    "# générer n variables aléatoires (= n secrétaires) correspondant à leurs qualités\n",
    "def qualities(n) : \n",
    "    return [random() for _ in range(n)] \n",
    "# donner le pourcentage de chance de tomber sur la meilleure secrétaire\n",
    "def recrut(n):\n",
    "    success = 0\n",
    "    nb_simul = 10000 \n",
    "    for _ in range(nb_simul) :\n",
    "        sec = qualities(n)\n",
    "        best = sec.index(max(sec))\n",
    "        k = 2\n",
    "        maxi = max(sec[0], sec[1])\n",
    "        while k < n :\n",
    "            if sec[k] > maxi :\n",
    "                break\n",
    "            else :\n",
    "                k += 1\n",
    "        if k == best :\n",
    "            success += 1\n",
    "    return success / nb_simul"
   ]
  },
  {
   "cell_type": "code",
   "execution_count": 6,
   "metadata": {},
   "outputs": [
    {
     "data": {
      "text/plain": [
       "0.3391"
      ]
     },
     "execution_count": 6,
     "metadata": {},
     "output_type": "execute_result"
    }
   ],
   "source": [
    "recrut(12) # 34%"
   ]
  },
  {
   "cell_type": "code",
   "execution_count": 7,
   "metadata": {},
   "outputs": [],
   "source": [
    "# PARTIE III : on laisse passer k (=suppr) candidats\n",
    "# générer n variables aléatoires (= n secrétaires) correspondant à leurs qualités\n",
    "def qualities(n) : \n",
    "    return [random() for _ in range(n)] \n",
    "# donner le pourcentage de chance de tomber sur la meilleure secrétaire\n",
    "def recrut(n, suppr):\n",
    "    success = 0\n",
    "    nb_simul = 10000 \n",
    "    for _ in range(nb_simul) :\n",
    "        sec = qualities(n)\n",
    "        best = sec.index(max(sec))\n",
    "        k = suppr\n",
    "        maxi = max(sec[:suppr])\n",
    "        while k < n :\n",
    "            if sec[k] > maxi :\n",
    "                break\n",
    "            else :\n",
    "                k += 1\n",
    "        if k == best :\n",
    "            success += 1\n",
    "    return success / nb_simul\n",
    "\n"
   ]
  },
  {
   "cell_type": "code",
   "execution_count": 8,
   "metadata": {},
   "outputs": [
    {
     "name": "stdout",
     "output_type": "stream",
     "text": [
      "1 : success = 0.2491\n",
      "2 : success = 0.3316\n",
      "3 : success = 0.3841\n",
      "4 : success = 0.3968\n",
      "5 : success = 0.3946\n",
      "6 : success = 0.3745\n",
      "7 : success = 0.3327\n",
      "8 : success = 0.2805\n",
      "9 : success = 0.2196\n",
      "10 : success = 0.1527\n",
      "11 : success = 0.0898\n"
     ]
    }
   ],
   "source": [
    "for k in range(1, 12) :\n",
    "    print(\"{} : success = {}\"\\\n",
    "          .format(k,recrut(12,k)))\n",
    "    \n",
    "# meilleure stratégie : ne pas recruter les 4 premiers candidats\n",
    "# on arrive à pratiquement 40% de chance d'avoir la meilleure secrétaire"
   ]
  },
  {
   "cell_type": "code",
   "execution_count": 9,
   "metadata": {},
   "outputs": [],
   "source": [
    "def laisser(n) :\n",
    "    pourc, r = 0, 0\n",
    "    for i in range(1,n) : \n",
    "        p = recrut(n,i) # pourcentage de succés si on a laissé i candidats\n",
    "        if p > pourc : # si ce pourcentage au pourcentage précédent\n",
    "            pourc = p # alors la stratégie est meilleure\n",
    "            r = i # il faut laisser i candidats\n",
    "    return r"
   ]
  },
  {
   "cell_type": "code",
   "execution_count": 10,
   "metadata": {},
   "outputs": [],
   "source": [
    "import pandas as pd\n",
    "df = pd.DataFrame(columns = [\"nombre de candidats\", \"nombres de candidats à laisser\"])\n",
    "df[\"nombre de candidats\"] = [i for i in range(2,60,2)]\n",
    "df[\"nombre de candidats à laisser\"] = [laisser(i) for i in range(2,60,2)]"
   ]
  },
  {
   "cell_type": "code",
   "execution_count": 14,
   "metadata": {},
   "outputs": [
    {
     "data": {
      "text/plain": [
       "Text(0.5, 1.0, 'Représentation graphique des simulations')"
      ]
     },
     "execution_count": 14,
     "metadata": {},
     "output_type": "execute_result"
    },
    {
     "data": {
      "image/png": "[encoded data removed]",
      "text/plain": [
       "<Figure size 432x288 with 1 Axes>"
      ]
     },
     "metadata": {
      "needs_background": "light"
     },
     "output_type": "display_data"
    }
   ],
   "source": [
    "import matplotlib.pyplot as plt\n",
    "import numpy as np\n",
    "\n",
    "plt.scatter(df[\"nombre de candidats\"], df[\"nombre de candidats à laisser\"])\n",
    "plt.plot([0,60], [0,20], color=\"red\", linestyle=\"solid\")\n",
    "plt.xlabel(\"Nombre de candidats\")\n",
    "plt.ylabel(\"Nombre de candidats à laisser\")\n",
    "plt.title(\"Représentation graphique des simulations\")"
   ]
  },
  {
   "cell_type": "code",
   "execution_count": 15,
   "metadata": {},
   "outputs": [
    {
     "name": "stdout",
     "output_type": "stream",
     "text": [
      "1 : success = 0.2516564454064454\n",
      "2 : success = 0.33664622414622414\n",
      "3 : success = 0.3799693362193362\n",
      "4 : success = 0.3955146705146705\n",
      "5 : success = 0.3902266714766715\n",
      "6 : success = 0.3682720057720058\n",
      "7 : success = 0.3324284511784512\n",
      "8 : success = 0.2846801346801347\n",
      "9 : success = 0.2265151515151515\n",
      "10 : success = 0.15909090909090912\n",
      "11 : success = 0.08333333333333333\n"
     ]
    }
   ],
   "source": [
    "# calcul théorique\n",
    "# proba de succès si k candidats laissés\n",
    "def recrut(n, k) :\n",
    "    return k/n * sum([1/(j-1) for j in range(k+1, n+1)])\n",
    "# proba de succès pour k allant de 1 à 11\n",
    "for k in range(1, 12) : \n",
    "    print(\"{} : success = {}\".format(k, recrut(12,k)))\n",
    "\n",
    "# on retrouve le même résultat entre calcul théorique et simulation : 4"
   ]
  },
  {
   "cell_type": "code",
   "execution_count": 16,
   "metadata": {},
   "outputs": [],
   "source": [
    "import pandas as pd\n",
    "n = 100\n",
    "df = pd.DataFrame(columns = [\"nombre de candidats laissés\", \"probabilité de succès\"])\n",
    "df[\"nombre de candidats laissés\"] = [k for k in range(1,n)]\n",
    "df[\"probabilité de succès\"] = df[\"nombre de candidats laissés\"].apply(lambda x: recrut(n,x))"
   ]
  },
  {
   "cell_type": "code",
   "execution_count": 17,
   "metadata": {},
   "outputs": [
    {
     "data": {
      "text/html": [
       "<div>\n",
       "<style scoped>\n",
       "    .dataframe tbody tr th:only-of-type {\n",
       "        vertical-align: middle;\n",
       "    }\n",
       "\n",
       "    .dataframe tbody tr th {\n",
       "        vertical-align: top;\n",
       "    }\n",
       "\n",
       "    .dataframe thead th {\n",
       "        text-align: right;\n",
       "    }\n",
       "</style>\n",
       "<table border=\"1\" class=\"dataframe\">\n",
       "  <thead>\n",
       "    <tr style=\"text-align: right;\">\n",
       "      <th></th>\n",
       "      <th>nombre de candidats laissés</th>\n",
       "      <th>probabilité de succès</th>\n",
       "    </tr>\n",
       "  </thead>\n",
       "  <tbody>\n",
       "    <tr>\n",
       "      <th>0</th>\n",
       "      <td>1</td>\n",
       "      <td>0.051774</td>\n",
       "    </tr>\n",
       "    <tr>\n",
       "      <th>1</th>\n",
       "      <td>2</td>\n",
       "      <td>0.083548</td>\n",
       "    </tr>\n",
       "    <tr>\n",
       "      <th>2</th>\n",
       "      <td>3</td>\n",
       "      <td>0.110321</td>\n",
       "    </tr>\n",
       "    <tr>\n",
       "      <th>3</th>\n",
       "      <td>4</td>\n",
       "      <td>0.133762</td>\n",
       "    </tr>\n",
       "    <tr>\n",
       "      <th>4</th>\n",
       "      <td>5</td>\n",
       "      <td>0.154702</td>\n",
       "    </tr>\n",
       "    <tr>\n",
       "      <th>...</th>\n",
       "      <td>...</td>\n",
       "      <td>...</td>\n",
       "    </tr>\n",
       "    <tr>\n",
       "      <th>94</th>\n",
       "      <td>95</td>\n",
       "      <td>0.048979</td>\n",
       "    </tr>\n",
       "    <tr>\n",
       "      <th>95</th>\n",
       "      <td>96</td>\n",
       "      <td>0.039390</td>\n",
       "    </tr>\n",
       "    <tr>\n",
       "      <th>96</th>\n",
       "      <td>97</td>\n",
       "      <td>0.029696</td>\n",
       "    </tr>\n",
       "    <tr>\n",
       "      <th>97</th>\n",
       "      <td>98</td>\n",
       "      <td>0.019899</td>\n",
       "    </tr>\n",
       "    <tr>\n",
       "      <th>98</th>\n",
       "      <td>99</td>\n",
       "      <td>0.010000</td>\n",
       "    </tr>\n",
       "  </tbody>\n",
       "</table>\n",
       "<p>99 rows × 2 columns</p>\n",
       "</div>"
      ],
      "text/plain": [
       "    nombre de candidats laissés  probabilité de succès\n",
       "0                             1               0.051774\n",
       "1                             2               0.083548\n",
       "2                             3               0.110321\n",
       "3                             4               0.133762\n",
       "4                             5               0.154702\n",
       "..                          ...                    ...\n",
       "94                           95               0.048979\n",
       "95                           96               0.039390\n",
       "96                           97               0.029696\n",
       "97                           98               0.019899\n",
       "98                           99               0.010000\n",
       "\n",
       "[99 rows x 2 columns]"
      ]
     },
     "execution_count": 17,
     "metadata": {},
     "output_type": "execute_result"
    }
   ],
   "source": [
    "df"
   ]
  },
  {
   "cell_type": "code",
   "execution_count": 18,
   "metadata": {},
   "outputs": [
    {
     "data": {
      "image/png": "[encoded data removed]",
      "text/plain": [
       "<Figure size 432x288 with 1 Axes>"
      ]
     },
     "metadata": {
      "needs_background": "light"
     },
     "output_type": "display_data"
    }
   ],
   "source": [
    "plt.plot(df[\"nombre de candidats laissés\"], df[\"probabilité de succès\"])\n",
    "plt.title(\"Résultats pour 100 candidats\")\n",
    "plt.xlabel(\"Nombre de candidats laissés\")\n",
    "plt.ylabel(\"Probabilité de succès\")\n",
    "plt.show()"
   ]
  }
 ],
 "metadata": {
  "kernelspec": {
   "display_name": "Python 3",
   "language": "python",
   "name": "python3"
  },
  "language_info": {
   "codemirror_mode": {
    "name": "ipython",
    "version": 3
   },
   "file_extension": ".py",
   "mimetype": "text/x-python",
   "name": "python",
   "nbconvert_exporter": "python",
   "pygments_lexer": "ipython3",
   "version": "3.10.11"
  },
  "orig_nbformat": 4
 },
 "nbformat": 4,
 "nbformat_minor": 2
}
