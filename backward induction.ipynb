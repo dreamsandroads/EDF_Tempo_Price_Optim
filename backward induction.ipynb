{
 "cells": [
  {
   "cell_type": "code",
   "execution_count": 104,
   "id": "266c13cc-650f-437e-9acf-9ff271de86cc",
   "metadata": {
    "tags": []
   },
   "outputs": [
    {
     "name": "stdout",
     "output_type": "stream",
     "text": [
      "Requirement already satisfied: jours-feries-france in /opt/mamba/lib/python3.10/site-packages (0.7.0)\n"
     ]
    }
   ],
   "source": [
    "import pandas as pd\n",
    "import numpy as np\n",
    "import matplotlib.pyplot as plt\n",
    "import seaborn as sns\n",
    "import datetime\n",
    "!pip install jours-feries-france\n",
    "from jours_feries_france import JoursFeries\n",
    "from scipy.integrate import quad,romberg"
   ]
  },
  {
   "cell_type": "code",
   "execution_count": 228,
   "id": "e0568d18-00cc-481f-95d2-36471b1d9c34",
   "metadata": {
    "tags": []
   },
   "outputs": [
    {
     "name": "stderr",
     "output_type": "stream",
     "text": [
      "/tmp/ipykernel_1314/777147624.py:17: DtypeWarning: Columns (23,28) have mixed types. Specify dtype option on import or set low_memory=False.\n",
      "  df_cons = pd.read_csv(r\"data/eco2mix-national-cons-def.csv\", sep=';')\n"
     ]
    }
   ],
   "source": [
    "# accès aux données : https://odre.opendatasoft.com/explore/dataset/eco2mix-national-cons-def/information\n",
    "\n",
    "# dates de début et de fin de la plage de données, format AAAA-MM-JJ\n",
    "date_debut = '2012-01-01'\n",
    "date_fin = '2022-12-31'\n",
    "\n",
    "# variables :\n",
    "# perimetre ; nature ; date ; heure ; date_heure ;\n",
    "# consommation ; prevision_j1 ; prevision_j ; fioul ; charbon ;\n",
    "# gaz ; nucleaire ; eolien ; solaire ; hydraulique ;\n",
    "# pompage ; bioenergies ; ech_physiques ; taux_co2 ; ech_comm_angleterre ;\n",
    "# ech_comm_espagne ; ech_comm_italie ; ech_comm_suisse ; ech_comm_allemagne_belgique ; fioul_tac ;\n",
    "# fioul_cogen ; fioul_autres ; gaz_tac ; gaz_cogen ; gaz_ccg ;\n",
    "# gaz_autres ; hydraulique_fil_eau_eclusee ; hydraulique_lacs ; hydraulique_step_turbinage ; bioenergies_dechets ;\n",
    "# bioenergies_biomasse ; bioenergies_biogaz\n",
    "\n",
    "df_cons = pd.read_csv(r\"data/eco2mix-national-cons-def.csv\", sep=';')\n",
    "# toutes les consommations sont en MW\n",
    "#df_cons = df_cons[[\"Date\", \"Heure\",\"Consommation\"]].rename(mapper = {\"Date\" : \"date\",\"Heure\" : \"heure\",\"Consommation\" : \"consommation\"}, axis = 1)"
   ]
  },
  {
   "cell_type": "code",
   "execution_count": 229,
   "id": "0a214f7e-5032-4e76-8f01-6ccad82b9de6",
   "metadata": {
    "tags": []
   },
   "outputs": [],
   "source": [
    "mask = (df_cons['date'] >= date_debut) & (df_cons['date'] <= date_fin)\n",
    "df_cons = df_cons.loc[mask]\n",
    "df_cons.sort_values([\"date\",\"heure\"], inplace=True)\n",
    "# ajout d'une colonne avec les dates et les heures\n",
    "df_cons['date_heure'] = pd.to_datetime(df_cons['date']+'T'+df_cons['heure'])\n",
    "df_cons.dropna(axis = 0, inplace=True)\n",
    "df_cons.reset_index(drop=True, inplace=True)"
   ]
  },
  {
   "cell_type": "code",
   "execution_count": 230,
   "id": "143f52dc-21ae-497a-ba50-3ac63ee3a23e",
   "metadata": {
    "tags": []
   },
   "outputs": [],
   "source": [
    "# calcul de la consommation moyenne par jour\n",
    "cons_moy_quot = df_cons[['consommation']] \\\n",
    "    .groupby(df_cons['date_heure'].dt.normalize().rename('date')) \\\n",
    "    .mean()\n",
    "#cons_moy_quot.plot()"
   ]
  },
  {
   "cell_type": "code",
   "execution_count": 231,
   "id": "8aa037c3-f9f3-4d68-aeab-d30fc747a3ac",
   "metadata": {
    "tags": []
   },
   "outputs": [],
   "source": [
    "cons_moy_quot_ann = cons_moy_quot \\\n",
    "    .assign(annee=cons_moy_quot.index.year, jour=cons_moy_quot.index.dayofyear) \\\n",
    "    .pivot(index='jour', columns='annee', values='consommation')\n",
    "#cons_moy_quot_ann.plot()"
   ]
  },
  {
   "cell_type": "code",
   "execution_count": 232,
   "id": "1df0c962-b1e6-48a5-a562-4926f0a2a805",
   "metadata": {
    "tags": []
   },
   "outputs": [],
   "source": [
    "#cons_moy_quot_ann.std(axis = 1)\n",
    "#cons_moy_quot_ann.mean(axis = 1)\n",
    "gauss_param = pd.concat([cons_moy_quot_ann.mean(axis = 1),cons_moy_quot_ann.std(axis = 1)**2],axis = 1)\n",
    "gauss_param = gauss_param.rename(columns = {0 : 'mean',1 : 'var'})"
   ]
  },
  {
   "cell_type": "code",
   "execution_count": 233,
   "id": "16fe564d-127c-4d71-b4f3-b58b6f6ce0dd",
   "metadata": {
    "tags": []
   },
   "outputs": [],
   "source": [
    "# dataframe avec les consommations moyennes quotidiennes en MW\n",
    "df_cons_moy_quot = pd.DataFrame(columns = [\"date\",\"consommation_moy (MW)\"])\n",
    "df_cons_moy_quot[\"date\"] = cons_moy_quot.index\n",
    "df_cons_moy_quot[\"consommation_moy (MW)\"] = cons_moy_quot.values"
   ]
  },
  {
   "cell_type": "code",
   "execution_count": 234,
   "id": "c1840a85-df70-4b6e-85db-c076c6665a4a",
   "metadata": {
    "tags": []
   },
   "outputs": [],
   "source": [
    "# dataframe avec les consommations moyennes quotidiennes de 2020-2021\n",
    "mask_16_17 = (df_cons_moy_quot['date'] >= \"2016-09-01\") & (df_cons_moy_quot['date'] <= \"2017-08-31\")\n",
    "df_cons_16_17 = df_cons_moy_quot.loc[mask_16_17].reset_index(drop=True)\n",
    "\n",
    "def date_to_wd(tmstp) : #Fonction de transformation d'un timestamp en jour de la semaine\n",
    "    dt = tmstp.date()\n",
    "    return(dt.weekday())\n",
    "\n",
    "def feries(tmstp) : #Fonction d'évaluation de si un jour est férié ou non\n",
    "    return(JoursFeries.is_bank_holiday(tmstp.date(), zone=\"Métropole\"))\n",
    "\n",
    "df_cons_16_17['weekday'] = df_cons_16_17['date'].apply(date_to_wd)\n",
    "df_cons_16_17['ferie'] = df_cons_16_17['date'].apply(feries)"
   ]
  },
  {
   "cell_type": "code",
   "execution_count": 9,
   "id": "a4feef76-d881-4521-83b2-c37b53b1dc24",
   "metadata": {
    "tags": []
   },
   "outputs": [],
   "source": [
    "# Nombre de jours de chaque type\n",
    "n_r = 22\n",
    "n_w = 43\n",
    "n_b = 300\n",
    "\n",
    "# On converti les prix en €/MW\n",
    "p_r = 0.6712*24*1000\n",
    "p_w = 0.1508*24*1000\n",
    "p_b = 0.1249*24*1000"
   ]
  },
  {
   "cell_type": "code",
   "execution_count": 101,
   "id": "f1ad3708-160e-41cc-8dbf-3cfa44685de7",
   "metadata": {
    "tags": []
   },
   "outputs": [],
   "source": [
    "#Initialisation de la récursivité\n",
    "\n",
    "memory = {}\n",
    "\n",
    "for i in range(n_b+1) :\n",
    "    for j in range(n_w+1) :\n",
    "        for k in range(n_r+1) :\n",
    "            memory[(-1, j, k)] = -np.inf\n",
    "            memory[(i, -1, k)] = -np.inf\n",
    "            memory[(i, j, -1)] = -np.inf\n",
    "        \n",
    "memory[(0,0,0)] = 0\n",
    "\n",
    "def g(i,j,k) :\n",
    "    \"\"\"\n",
    "        Entrées : i,j,k respectivement les nombre de jours bleus, blancs et rouges restants à attribuer\n",
    "        Sortie : le gain espéré sur les prochains jours\n",
    "    \"\"\"\n",
    "    if i+j+k < 0 or i < 0 or j < 0 or k < 0 :\n",
    "        memory[(i,j,k)] = -np.inf\n",
    "        return -np.inf\n",
    "    try :\n",
    "        return memory[(i,j,k)]\n",
    "    except :\n",
    "        day = 366-i-j-k #Jours auquel on se trouve (les indexs commencent à 1)\n",
    "        moy,var = gauss_param.loc[day]\n",
    "        f = lambda x : max(max(p_b*x + g(i-1,j,k),p_w*x + g(i,j-1,k)),p_r*x + g(i,j,k-1)) * (1/np.sqrt(2*np.pi*var)) * np.exp(-(x-moy)**2/(2*var))\n",
    "        esp = quad(f,moy-5*np.sqrt(var),moy+5*np.sqrt(var))[0]\n",
    "        memory[(i,j,k)] = esp\n",
    "        return esp    "
   ]
  },
  {
   "cell_type": "code",
   "execution_count": 122,
   "id": "7e0fc1d6-4201-4aad-a2dc-3099c362e20f",
   "metadata": {
    "tags": []
   },
   "outputs": [],
   "source": [
    "# Backward induction\n",
    "\n",
    "#Initialisation des variables de jours restants\n",
    "rem_b = n_b\n",
    "rem_w = n_w\n",
    "rem_r = n_r\n",
    "\n",
    "#Liste des types de jours\n",
    "type_jours = []\n",
    "\n",
    "for k in range(len(df_cons_16_17)) :\n",
    "    #Premier cas : c'est dimanche (forcément un jour bleu)\n",
    "    if (df_cons_16_17.loc[i,'weekday'] == 6) :\n",
    "        types_jours.append['bleu']\n",
    "        rem_b -= 1\n",
    "        continue\n",
    "        \n",
    "    #Calcul des gains potentiels\n",
    "    w_k = df_cons_16_17.loc[k,\"consommation_moy (MW)\"]\n",
    "    \n",
    "    gb = p_b*w_k + g(rem_b-1,rem_w,rem_r)\n",
    "    gw = p_w*w_k + g(rem_b,rem_w-1,rem_r)\n",
    "    gr = p_r*w_k + g(rem_b,rem_w,rem_r-1)\n",
    "    \n",
    "    #Deuxième cas : c'est un jour férié ou nous sommes en dehors de entre le 1er novembre et le 31 mars (arbitrage jour bleu jour blanc)\n",
    "    if df_cons_16_17.loc[i,'ferie'] or (df_cons_16_17.loc[i,'date'].to_pydatetime() < datetime.datetime(2016,11,1,0,0) and df_cons_16_17.loc[i,'date'].to_pydatetime() > datetime.datetime(2017,3,31,0,0)) :\n",
    "        if gb >= gw : #on préfère utiliser un jour bleu qu'un jour blanc\n",
    "            rem_b -= 1\n",
    "            type_jours.append('bleu')\n",
    "            continue\n",
    "        else :\n",
    "            rem_w -= 1\n",
    "            type_jours.append('blanc')\n",
    "            continue\n",
    "\n",
    "    #Troisième cas : arbitrage jours bleus, blancs et rouges\n",
    "    if gb >= gw and gb >= gr : #on préfère utiliser les jours bleus en premier\n",
    "        rem_b -= 1\n",
    "        type_jours.append('bleu')\n",
    "    elif gw >= gb and gw >= gr : #puis les blancs\n",
    "        rem_w -= 1\n",
    "        type_jours.append('blanc')\n",
    "    elif gr >= gb and gr >= gw : #et enfin les rouges\n",
    "        rem_r -= 1\n",
    "        type_jours.append('rouge')\n",
    "    "
   ]
  },
  {
   "cell_type": "code",
   "execution_count": 235,
   "id": "a278d878-611a-467d-a3ad-d9b4fb8cf1a7",
   "metadata": {
    "tags": []
   },
   "outputs": [],
   "source": [
    "#Calcul du gain par la backward induction\n",
    "\n",
    "df_cons_16_17['backward'] = type_jours\n",
    "df_cons_16_17['gain backward'] = df_cons_16_17.replace({'backward':{'bleu' : p_b,'blanc':p_w,'rouge':p_r}})['backward']*df_cons_16_17['consommation_moy (MW)']"
   ]
  },
  {
   "cell_type": "code",
   "execution_count": 236,
   "id": "9a11ac08-28d2-464a-8dcc-da8d69fad93b",
   "metadata": {
    "tags": []
   },
   "outputs": [],
   "source": [
    "ind_proph_r = df_cons_16_17[(~df_cons_16_17['weekday'].isin([5,6]))&(~df_cons_16_17.ferie)].nlargest(n_r,'consommation_moy (MW)').index\n",
    "ind_proph_w = df_cons_16_17[(~df_cons_16_17['weekday'].isin([5]))&(~df_cons_16_17.index.isin(ind_proph_r))].nlargest(n_w,'consommation_moy (MW)').index\n",
    "ind_proph_b = df_cons_16_17[~df_cons_16_17.index.isin(list(ind_proph_r)+list(ind_proph_w))].index"
   ]
  },
  {
   "cell_type": "code",
   "execution_count": 250,
   "id": "e42b3558-c5a2-4a13-9473-b08d9e4ccdd7",
   "metadata": {
    "tags": []
   },
   "outputs": [],
   "source": [
    "prophet = pd.Series(data = n_r*['rouge']+n_w*['blanc']+n_b*['bleu'],index = list(ind_proph_r)+list(ind_proph_w)+list(ind_proph_b))\n",
    "df_cons_16_17['prophet'] = prophet\n",
    "df_cons_16_17['gain prophet'] = df_cons_16_17.replace({'prophet':{'bleu' : p_b,'blanc':p_w,'rouge':p_r}})['prophet']*df_cons_16_17['consommation_moy (MW)']"
   ]
  },
  {
   "cell_type": "code",
   "execution_count": 254,
   "id": "d66aaf96-75b3-420a-b954-c2cd242a09ea",
   "metadata": {
    "tags": []
   },
   "outputs": [
    {
     "name": "stdout",
     "output_type": "stream",
     "text": [
      "le gain de la backward induction est :  82630397692.30002 \n",
      " le gain du prophet est :  84529622581.75 \n",
      " le competitive ratio est :  0.9775318423122827\n"
     ]
    }
   ],
   "source": [
    "gain_back = df_cons_16_17['gain backward'].sum()\n",
    "gain_proph = df_cons_16_17['gain prophet'].sum()\n",
    "print('le gain de la backward induction est : ',gain_back,'\\n le gain du prophet est : ',gain_proph,'\\n le competitive ratio est : ',gain_back/gain_proph) "
   ]
  },
  {
   "cell_type": "code",
   "execution_count": 259,
   "id": "34676b0f-affb-49de-b631-c74c98b12658",
   "metadata": {
    "tags": []
   },
   "outputs": [
    {
     "name": "stdout",
     "output_type": "stream",
     "text": [
      "EDF a gagné sur la même période :  81211878825.9 \n",
      " la backward induction a gagné :  82630397692.30002 \n",
      " soit,  0.017466888919550918 % de plus\n"
     ]
    }
   ],
   "source": [
    "#comparaison avec EDF\n",
    "tempo_16_17 = pd.read_csv(r\"data/eCO2mix_RTE_tempo_2016-2017.csv\", sep=\";\", encoding='latin-1')\n",
    "tempo_16_17.rename({\"Date\": \"date\"},axis=1,inplace=True)\n",
    "check = pd.concat([tempo_16_17, df_cons_16_17],axis=1)\n",
    "rouge_16_17 = check[check[\"Type de jour TEMPO\"] == \"ROUGE\"]\n",
    "blanc_16_17 = check[check[\"Type de jour TEMPO\"] == \"BLANC\"]\n",
    "bleu_16_17 = check[check[\"Type de jour TEMPO\"] == \"BLEU\"]\n",
    "\n",
    "gain_rouge_reel = rouge_16_17[\"consommation_moy (MW)\"].sum() * p_r\n",
    "gain_blanc_reel = blanc_16_17[\"consommation_moy (MW)\"].sum() * p_b\n",
    "gain_bleu_reel = bleu_16_17[\"consommation_moy (MW)\"].sum() * p_b\n",
    "gain_reel = gain_rouge_reel+gain_blanc_reel+gain_bleu_reel\n",
    "\n",
    "print('EDF a gagné sur la même période : ',gain_reel,'\\n la backward induction a gagné : ',gain_back,'\\n soit, ',(gain_back-gain_reel)/gain_reel,'% de plus')"
   ]
  }
 ],
 "metadata": {
  "kernelspec": {
   "display_name": "Python 3 (ipykernel)",
   "language": "python",
   "name": "python3"
  },
  "language_info": {
   "codemirror_mode": {
    "name": "ipython",
    "version": 3
   },
   "file_extension": ".py",
   "mimetype": "text/x-python",
   "name": "python",
   "nbconvert_exporter": "python",
   "pygments_lexer": "ipython3",
   "version": "3.10.9"
  }
 },
 "nbformat": 4,
 "nbformat_minor": 5
}
